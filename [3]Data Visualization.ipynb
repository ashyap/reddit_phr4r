{
 "cells": [
  {
   "cell_type": "code",
   "execution_count": 21,
   "metadata": {},
   "outputs": [],
   "source": [
    "import pandas as pd \n",
    "import matplotlib.pyplot as plt \n",
    "import numpy as np\n",
    "import seaborn as sns\n",
    "import datetime as dt\n",
    "import calendar"
   ]
  },
  {
   "cell_type": "code",
   "execution_count": 17,
   "metadata": {},
   "outputs": [
    {
     "data": {
      "text/html": [
       "<div>\n",
       "<style scoped>\n",
       "    .dataframe tbody tr th:only-of-type {\n",
       "        vertical-align: middle;\n",
       "    }\n",
       "\n",
       "    .dataframe tbody tr th {\n",
       "        vertical-align: top;\n",
       "    }\n",
       "\n",
       "    .dataframe thead th {\n",
       "        text-align: right;\n",
       "    }\n",
       "</style>\n",
       "<table border=\"1\" class=\"dataframe\">\n",
       "  <thead>\n",
       "    <tr style=\"text-align: right;\">\n",
       "      <th></th>\n",
       "      <th>id</th>\n",
       "      <th>title</th>\n",
       "      <th>selftext</th>\n",
       "      <th>num_comments</th>\n",
       "      <th>score</th>\n",
       "      <th>created_utc</th>\n",
       "      <th>main_title</th>\n",
       "      <th>user_age</th>\n",
       "      <th>user_gender</th>\n",
       "      <th>target_gender</th>\n",
       "    </tr>\n",
       "  </thead>\n",
       "  <tbody>\n",
       "    <tr>\n",
       "      <th>0</th>\n",
       "      <td>5lghbd</td>\n",
       "      <td>20 [F4F] Manila</td>\n",
       "      <td>Movie? Coffee?</td>\n",
       "      <td>1</td>\n",
       "      <td>8</td>\n",
       "      <td>2017-01-02 02:52:40</td>\n",
       "      <td>20 [F4F] Manila</td>\n",
       "      <td>20.0</td>\n",
       "      <td>f</td>\n",
       "      <td>f</td>\n",
       "    </tr>\n",
       "    <tr>\n",
       "      <th>1</th>\n",
       "      <td>5le6zf</td>\n",
       "      <td>25 [M4R] - Let's start the new year right and ...</td>\n",
       "      <td>Hi!\\nI want to start the new year right! I wan...</td>\n",
       "      <td>2</td>\n",
       "      <td>7</td>\n",
       "      <td>2017-01-01 15:45:41</td>\n",
       "      <td>25 [M4R] - Let's start the new year right and ...</td>\n",
       "      <td>25.0</td>\n",
       "      <td>m</td>\n",
       "      <td>a</td>\n",
       "    </tr>\n",
       "    <tr>\n",
       "      <th>2</th>\n",
       "      <td>5le8pd</td>\n",
       "      <td>Muff dive</td>\n",
       "      <td>[deleted]</td>\n",
       "      <td>0</td>\n",
       "      <td>7</td>\n",
       "      <td>2017-01-01 16:01:21</td>\n",
       "      <td>Muff dive</td>\n",
       "      <td>0.0</td>\n",
       "      <td>u</td>\n",
       "      <td>u</td>\n",
       "    </tr>\n",
       "    <tr>\n",
       "      <th>3</th>\n",
       "      <td>5lgv46</td>\n",
       "      <td>20 [M4A] looking for minecraft players</td>\n",
       "      <td>Looking for players around bulacan for a LAN m...</td>\n",
       "      <td>0</td>\n",
       "      <td>6</td>\n",
       "      <td>2017-01-02 04:07:05</td>\n",
       "      <td>20 [M4A] looking for minecraft players</td>\n",
       "      <td>20.0</td>\n",
       "      <td>m</td>\n",
       "      <td>a</td>\n",
       "    </tr>\n",
       "    <tr>\n",
       "      <th>4</th>\n",
       "      <td>5li0y4</td>\n",
       "      <td>[26M4F] Dominate me.</td>\n",
       "      <td>I want to be your servant. Your dog. Your dick...</td>\n",
       "      <td>0</td>\n",
       "      <td>5</td>\n",
       "      <td>2017-01-02 07:52:15</td>\n",
       "      <td>Dominate me.</td>\n",
       "      <td>26.0</td>\n",
       "      <td>m</td>\n",
       "      <td>f</td>\n",
       "    </tr>\n",
       "  </tbody>\n",
       "</table>\n",
       "</div>"
      ],
      "text/plain": [
       "       id                                              title  \\\n",
       "0  5lghbd                                    20 [F4F] Manila   \n",
       "1  5le6zf  25 [M4R] - Let's start the new year right and ...   \n",
       "2  5le8pd                                          Muff dive   \n",
       "3  5lgv46             20 [M4A] looking for minecraft players   \n",
       "4  5li0y4                               [26M4F] Dominate me.   \n",
       "\n",
       "                                            selftext  num_comments  score  \\\n",
       "0                                     Movie? Coffee?             1      8   \n",
       "1  Hi!\\nI want to start the new year right! I wan...             2      7   \n",
       "2                                          [deleted]             0      7   \n",
       "3  Looking for players around bulacan for a LAN m...             0      6   \n",
       "4  I want to be your servant. Your dog. Your dick...             0      5   \n",
       "\n",
       "          created_utc                                         main_title  \\\n",
       "0 2017-01-02 02:52:40                                    20 [F4F] Manila   \n",
       "1 2017-01-01 15:45:41  25 [M4R] - Let's start the new year right and ...   \n",
       "2 2017-01-01 16:01:21                                          Muff dive   \n",
       "3 2017-01-02 04:07:05             20 [M4A] looking for minecraft players   \n",
       "4 2017-01-02 07:52:15                                       Dominate me.   \n",
       "\n",
       "   user_age user_gender target_gender  \n",
       "0      20.0           f             f  \n",
       "1      25.0           m             a  \n",
       "2       0.0           u             u  \n",
       "3      20.0           m             a  \n",
       "4      26.0           m             f  "
      ]
     },
     "execution_count": 17,
     "metadata": {},
     "output_type": "execute_result"
    }
   ],
   "source": [
    "reddit_df = pd.read_csv(\"phr4r_cleaned.csv\")\n",
    "reddit_df.created_utc = reddit_df.created_utc.astype('datetime64[ns]') \n",
    "reddit_df.head()"
   ]
  },
  {
   "cell_type": "code",
   "execution_count": 18,
   "metadata": {},
   "outputs": [
    {
     "data": {
      "text/html": [
       "<div>\n",
       "<style scoped>\n",
       "    .dataframe tbody tr th:only-of-type {\n",
       "        vertical-align: middle;\n",
       "    }\n",
       "\n",
       "    .dataframe tbody tr th {\n",
       "        vertical-align: top;\n",
       "    }\n",
       "\n",
       "    .dataframe thead th {\n",
       "        text-align: right;\n",
       "    }\n",
       "</style>\n",
       "<table border=\"1\" class=\"dataframe\">\n",
       "  <thead>\n",
       "    <tr style=\"text-align: right;\">\n",
       "      <th></th>\n",
       "      <th>id</th>\n",
       "      <th>title</th>\n",
       "      <th>selftext</th>\n",
       "      <th>num_comments</th>\n",
       "      <th>score</th>\n",
       "      <th>created_utc</th>\n",
       "      <th>main_title</th>\n",
       "      <th>user_age</th>\n",
       "      <th>user_gender</th>\n",
       "      <th>target_gender</th>\n",
       "    </tr>\n",
       "  </thead>\n",
       "  <tbody>\n",
       "    <tr>\n",
       "      <th>count</th>\n",
       "      <td>89480</td>\n",
       "      <td>89480</td>\n",
       "      <td>87732</td>\n",
       "      <td>89480.000000</td>\n",
       "      <td>89480.000000</td>\n",
       "      <td>89480</td>\n",
       "      <td>89407</td>\n",
       "      <td>89480.000000</td>\n",
       "      <td>89480</td>\n",
       "      <td>89480</td>\n",
       "    </tr>\n",
       "    <tr>\n",
       "      <th>unique</th>\n",
       "      <td>89480</td>\n",
       "      <td>84502</td>\n",
       "      <td>51288</td>\n",
       "      <td>NaN</td>\n",
       "      <td>NaN</td>\n",
       "      <td>89393</td>\n",
       "      <td>84436</td>\n",
       "      <td>NaN</td>\n",
       "      <td>6</td>\n",
       "      <td>6</td>\n",
       "    </tr>\n",
       "    <tr>\n",
       "      <th>top</th>\n",
       "      <td>cv4yr4</td>\n",
       "      <td>M4F</td>\n",
       "      <td>[removed]</td>\n",
       "      <td>NaN</td>\n",
       "      <td>NaN</td>\n",
       "      <td>2019-06-15 18:49:19</td>\n",
       "      <td>M4F</td>\n",
       "      <td>NaN</td>\n",
       "      <td>m</td>\n",
       "      <td>f</td>\n",
       "    </tr>\n",
       "    <tr>\n",
       "      <th>freq</th>\n",
       "      <td>1</td>\n",
       "      <td>76</td>\n",
       "      <td>33198</td>\n",
       "      <td>NaN</td>\n",
       "      <td>NaN</td>\n",
       "      <td>3</td>\n",
       "      <td>76</td>\n",
       "      <td>NaN</td>\n",
       "      <td>62421</td>\n",
       "      <td>53861</td>\n",
       "    </tr>\n",
       "    <tr>\n",
       "      <th>first</th>\n",
       "      <td>NaN</td>\n",
       "      <td>NaN</td>\n",
       "      <td>NaN</td>\n",
       "      <td>NaN</td>\n",
       "      <td>NaN</td>\n",
       "      <td>2017-01-01 08:41:46</td>\n",
       "      <td>NaN</td>\n",
       "      <td>NaN</td>\n",
       "      <td>NaN</td>\n",
       "      <td>NaN</td>\n",
       "    </tr>\n",
       "    <tr>\n",
       "      <th>last</th>\n",
       "      <td>NaN</td>\n",
       "      <td>NaN</td>\n",
       "      <td>NaN</td>\n",
       "      <td>NaN</td>\n",
       "      <td>NaN</td>\n",
       "      <td>2019-12-31 07:56:10</td>\n",
       "      <td>NaN</td>\n",
       "      <td>NaN</td>\n",
       "      <td>NaN</td>\n",
       "      <td>NaN</td>\n",
       "    </tr>\n",
       "    <tr>\n",
       "      <th>mean</th>\n",
       "      <td>NaN</td>\n",
       "      <td>NaN</td>\n",
       "      <td>NaN</td>\n",
       "      <td>2.270798</td>\n",
       "      <td>2.334343</td>\n",
       "      <td>NaN</td>\n",
       "      <td>NaN</td>\n",
       "      <td>23.061701</td>\n",
       "      <td>NaN</td>\n",
       "      <td>NaN</td>\n",
       "    </tr>\n",
       "    <tr>\n",
       "      <th>std</th>\n",
       "      <td>NaN</td>\n",
       "      <td>NaN</td>\n",
       "      <td>NaN</td>\n",
       "      <td>5.978305</td>\n",
       "      <td>6.682115</td>\n",
       "      <td>NaN</td>\n",
       "      <td>NaN</td>\n",
       "      <td>7.666477</td>\n",
       "      <td>NaN</td>\n",
       "      <td>NaN</td>\n",
       "    </tr>\n",
       "    <tr>\n",
       "      <th>min</th>\n",
       "      <td>NaN</td>\n",
       "      <td>NaN</td>\n",
       "      <td>NaN</td>\n",
       "      <td>0.000000</td>\n",
       "      <td>0.000000</td>\n",
       "      <td>NaN</td>\n",
       "      <td>NaN</td>\n",
       "      <td>0.000000</td>\n",
       "      <td>NaN</td>\n",
       "      <td>NaN</td>\n",
       "    </tr>\n",
       "    <tr>\n",
       "      <th>25%</th>\n",
       "      <td>NaN</td>\n",
       "      <td>NaN</td>\n",
       "      <td>NaN</td>\n",
       "      <td>0.000000</td>\n",
       "      <td>1.000000</td>\n",
       "      <td>NaN</td>\n",
       "      <td>NaN</td>\n",
       "      <td>22.000000</td>\n",
       "      <td>NaN</td>\n",
       "      <td>NaN</td>\n",
       "    </tr>\n",
       "    <tr>\n",
       "      <th>50%</th>\n",
       "      <td>NaN</td>\n",
       "      <td>NaN</td>\n",
       "      <td>NaN</td>\n",
       "      <td>0.000000</td>\n",
       "      <td>1.000000</td>\n",
       "      <td>NaN</td>\n",
       "      <td>NaN</td>\n",
       "      <td>24.000000</td>\n",
       "      <td>NaN</td>\n",
       "      <td>NaN</td>\n",
       "    </tr>\n",
       "    <tr>\n",
       "      <th>75%</th>\n",
       "      <td>NaN</td>\n",
       "      <td>NaN</td>\n",
       "      <td>NaN</td>\n",
       "      <td>2.000000</td>\n",
       "      <td>1.000000</td>\n",
       "      <td>NaN</td>\n",
       "      <td>NaN</td>\n",
       "      <td>27.000000</td>\n",
       "      <td>NaN</td>\n",
       "      <td>NaN</td>\n",
       "    </tr>\n",
       "    <tr>\n",
       "      <th>max</th>\n",
       "      <td>NaN</td>\n",
       "      <td>NaN</td>\n",
       "      <td>NaN</td>\n",
       "      <td>205.000000</td>\n",
       "      <td>428.000000</td>\n",
       "      <td>NaN</td>\n",
       "      <td>NaN</td>\n",
       "      <td>99.000000</td>\n",
       "      <td>NaN</td>\n",
       "      <td>NaN</td>\n",
       "    </tr>\n",
       "  </tbody>\n",
       "</table>\n",
       "</div>"
      ],
      "text/plain": [
       "            id  title   selftext  num_comments         score  \\\n",
       "count    89480  89480      87732  89480.000000  89480.000000   \n",
       "unique   89480  84502      51288           NaN           NaN   \n",
       "top     cv4yr4    M4F  [removed]           NaN           NaN   \n",
       "freq         1     76      33198           NaN           NaN   \n",
       "first      NaN    NaN        NaN           NaN           NaN   \n",
       "last       NaN    NaN        NaN           NaN           NaN   \n",
       "mean       NaN    NaN        NaN      2.270798      2.334343   \n",
       "std        NaN    NaN        NaN      5.978305      6.682115   \n",
       "min        NaN    NaN        NaN      0.000000      0.000000   \n",
       "25%        NaN    NaN        NaN      0.000000      1.000000   \n",
       "50%        NaN    NaN        NaN      0.000000      1.000000   \n",
       "75%        NaN    NaN        NaN      2.000000      1.000000   \n",
       "max        NaN    NaN        NaN    205.000000    428.000000   \n",
       "\n",
       "                created_utc main_title      user_age user_gender target_gender  \n",
       "count                 89480      89407  89480.000000       89480         89480  \n",
       "unique                89393      84436           NaN           6             6  \n",
       "top     2019-06-15 18:49:19        M4F           NaN           m             f  \n",
       "freq                      3         76           NaN       62421         53861  \n",
       "first   2017-01-01 08:41:46        NaN           NaN         NaN           NaN  \n",
       "last    2019-12-31 07:56:10        NaN           NaN         NaN           NaN  \n",
       "mean                    NaN        NaN     23.061701         NaN           NaN  \n",
       "std                     NaN        NaN      7.666477         NaN           NaN  \n",
       "min                     NaN        NaN      0.000000         NaN           NaN  \n",
       "25%                     NaN        NaN     22.000000         NaN           NaN  \n",
       "50%                     NaN        NaN     24.000000         NaN           NaN  \n",
       "75%                     NaN        NaN     27.000000         NaN           NaN  \n",
       "max                     NaN        NaN     99.000000         NaN           NaN  "
      ]
     },
     "execution_count": 18,
     "metadata": {},
     "output_type": "execute_result"
    }
   ],
   "source": [
    "reddit_df.describe(include='all')"
   ]
  },
  {
   "cell_type": "markdown",
   "metadata": {},
   "source": [
    "### Exploratory Data Analysis"
   ]
  },
  {
   "cell_type": "markdown",
   "metadata": {},
   "source": [
    "#### Distribution Plot of # of Comments, Score & Age"
   ]
  },
  {
   "cell_type": "code",
   "execution_count": 19,
   "metadata": {},
   "outputs": [
    {
     "data": {
      "text/plain": [
       "<seaborn.axisgrid.PairGrid at 0x15724b41ee0>"
      ]
     },
     "execution_count": 19,
     "metadata": {},
     "output_type": "execute_result"
    },
    {
     "data": {
      "image/png": "[encoded data removed]",
      "text/plain": [
       "<Figure size 540x540 with 12 Axes>"
      ]
     },
     "metadata": {
      "needs_background": "light"
     },
     "output_type": "display_data"
    }
   ],
   "source": [
    "sns.pairplot(reddit_df[[\"num_comments\", \"score\", \"user_age\"]])"
   ]
  },
  {
   "cell_type": "markdown",
   "metadata": {},
   "source": [
    "#### Age Distribution"
   ]
  },
  {
   "cell_type": "code",
   "execution_count": 4,
   "metadata": {},
   "outputs": [
    {
     "data": {
      "text/plain": [
       "<matplotlib.axes._subplots.AxesSubplot at 0x15722a16940>"
      ]
     },
     "execution_count": 4,
     "metadata": {},
     "output_type": "execute_result"
    },
    {
     "data": {
      "image/png": "[encoded data removed]",
      "text/plain": [
       "<Figure size 432x288 with 1 Axes>"
      ]
     },
     "metadata": {
      "needs_background": "light"
     },
     "output_type": "display_data"
    }
   ],
   "source": [
    "# Age should onle be above 0, we imputted null values for age to 0 so that we could still use them for other insights. \n",
    "sns.distplot(reddit_df[reddit_df[\"user_age\"] > 0][\"user_age\"])"
   ]
  },
  {
   "cell_type": "markdown",
   "metadata": {},
   "source": [
    "#### Comment Count Distribution"
   ]
  },
  {
   "cell_type": "code",
   "execution_count": 5,
   "metadata": {},
   "outputs": [
    {
     "data": {
      "text/plain": [
       "<matplotlib.axes._subplots.AxesSubplot at 0x1572455a040>"
      ]
     },
     "execution_count": 5,
     "metadata": {},
     "output_type": "execute_result"
    },
    {
     "data": {
      "image/png": "[encoded data removed]",
      "text/plain": [
       "<Figure size 432x288 with 1 Axes>"
      ]
     },
     "metadata": {
      "needs_background": "light"
     },
     "output_type": "display_data"
    }
   ],
   "source": [
    "sns.distplot(reddit_df[\"num_comments\"])"
   ]
  },
  {
   "cell_type": "markdown",
   "metadata": {},
   "source": [
    "#### Score Distribution"
   ]
  },
  {
   "cell_type": "code",
   "execution_count": 6,
   "metadata": {},
   "outputs": [
    {
     "data": {
      "text/plain": [
       "<matplotlib.axes._subplots.AxesSubplot at 0x1572463a340>"
      ]
     },
     "execution_count": 6,
     "metadata": {},
     "output_type": "execute_result"
    },
    {
     "data": {
      "image/png": "[encoded data removed]",
      "text/plain": [
       "<Figure size 432x288 with 1 Axes>"
      ]
     },
     "metadata": {
      "needs_background": "light"
     },
     "output_type": "display_data"
    }
   ],
   "source": [
    "sns.distplot(reddit_df[\"score\"])"
   ]
  },
  {
   "cell_type": "markdown",
   "metadata": {},
   "source": [
    "#### Gender User Count"
   ]
  },
  {
   "cell_type": "code",
   "execution_count": 7,
   "metadata": {},
   "outputs": [
    {
     "data": {
      "text/plain": [
       "<matplotlib.axes._subplots.AxesSubplot at 0x1572482d850>"
      ]
     },
     "execution_count": 7,
     "metadata": {},
     "output_type": "execute_result"
    },
    {
     "data": {
      "image/png": "[encoded data removed]",
      "text/plain": [
       "<Figure size 432x288 with 1 Axes>"
      ]
     },
     "metadata": {
      "needs_background": "light"
     },
     "output_type": "display_data"
    }
   ],
   "source": [
    "sns.countplot(reddit_df[\"user_gender\"])"
   ]
  },
  {
   "cell_type": "markdown",
   "metadata": {},
   "source": [
    "#### Gender User Count"
   ]
  },
  {
   "cell_type": "code",
   "execution_count": 8,
   "metadata": {},
   "outputs": [
    {
     "data": {
      "text/plain": [
       "<matplotlib.axes._subplots.AxesSubplot at 0x157248edd60>"
      ]
     },
     "execution_count": 8,
     "metadata": {},
     "output_type": "execute_result"
    },
    {
     "data": {
      "image/png": "[encoded data removed]",
      "text/plain": [
       "<Figure size 432x288 with 1 Axes>"
      ]
     },
     "metadata": {
      "needs_background": "light"
     },
     "output_type": "display_data"
    }
   ],
   "source": [
    "sns.countplot(reddit_df[\"target_gender\"])"
   ]
  },
  {
   "cell_type": "markdown",
   "metadata": {},
   "source": [
    "#### Preferred target gender by Gender (Stacked Bar Chart)"
   ]
  },
  {
   "cell_type": "code",
   "execution_count": 22,
   "metadata": {},
   "outputs": [
    {
     "data": {
      "text/html": [
       "<div>\n",
       "<style scoped>\n",
       "    .dataframe tbody tr th:only-of-type {\n",
       "        vertical-align: middle;\n",
       "    }\n",
       "\n",
       "    .dataframe tbody tr th {\n",
       "        vertical-align: top;\n",
       "    }\n",
       "\n",
       "    .dataframe thead th {\n",
       "        text-align: right;\n",
       "    }\n",
       "</style>\n",
       "<table border=\"1\" class=\"dataframe\">\n",
       "  <thead>\n",
       "    <tr style=\"text-align: right;\">\n",
       "      <th></th>\n",
       "      <th>a</th>\n",
       "      <th>b</th>\n",
       "      <th>c</th>\n",
       "      <th>d</th>\n",
       "    </tr>\n",
       "  </thead>\n",
       "  <tbody>\n",
       "    <tr>\n",
       "      <th>0</th>\n",
       "      <td>0.998423</td>\n",
       "      <td>0.692702</td>\n",
       "      <td>0.125704</td>\n",
       "      <td>0.459239</td>\n",
       "    </tr>\n",
       "    <tr>\n",
       "      <th>1</th>\n",
       "      <td>0.352342</td>\n",
       "      <td>0.641935</td>\n",
       "      <td>0.336732</td>\n",
       "      <td>0.458998</td>\n",
       "    </tr>\n",
       "    <tr>\n",
       "      <th>2</th>\n",
       "      <td>0.701639</td>\n",
       "      <td>0.173893</td>\n",
       "      <td>0.627328</td>\n",
       "      <td>0.485419</td>\n",
       "    </tr>\n",
       "    <tr>\n",
       "      <th>3</th>\n",
       "      <td>0.240742</td>\n",
       "      <td>0.727659</td>\n",
       "      <td>0.275452</td>\n",
       "      <td>0.319431</td>\n",
       "    </tr>\n",
       "    <tr>\n",
       "      <th>4</th>\n",
       "      <td>0.287607</td>\n",
       "      <td>0.726930</td>\n",
       "      <td>0.630752</td>\n",
       "      <td>0.552071</td>\n",
       "    </tr>\n",
       "    <tr>\n",
       "      <th>5</th>\n",
       "      <td>0.286502</td>\n",
       "      <td>0.830323</td>\n",
       "      <td>0.973483</td>\n",
       "      <td>0.233798</td>\n",
       "    </tr>\n",
       "    <tr>\n",
       "      <th>6</th>\n",
       "      <td>0.035297</td>\n",
       "      <td>0.981498</td>\n",
       "      <td>0.341738</td>\n",
       "      <td>0.697627</td>\n",
       "    </tr>\n",
       "    <tr>\n",
       "      <th>7</th>\n",
       "      <td>0.004993</td>\n",
       "      <td>0.509476</td>\n",
       "      <td>0.012593</td>\n",
       "      <td>0.336124</td>\n",
       "    </tr>\n",
       "    <tr>\n",
       "      <th>8</th>\n",
       "      <td>0.608950</td>\n",
       "      <td>0.124126</td>\n",
       "      <td>0.206467</td>\n",
       "      <td>0.775886</td>\n",
       "    </tr>\n",
       "    <tr>\n",
       "      <th>9</th>\n",
       "      <td>0.527680</td>\n",
       "      <td>0.863236</td>\n",
       "      <td>0.822703</td>\n",
       "      <td>0.582157</td>\n",
       "    </tr>\n",
       "  </tbody>\n",
       "</table>\n",
       "</div>"
      ],
      "text/plain": [
       "          a         b         c         d\n",
       "0  0.998423  0.692702  0.125704  0.459239\n",
       "1  0.352342  0.641935  0.336732  0.458998\n",
       "2  0.701639  0.173893  0.627328  0.485419\n",
       "3  0.240742  0.727659  0.275452  0.319431\n",
       "4  0.287607  0.726930  0.630752  0.552071\n",
       "5  0.286502  0.830323  0.973483  0.233798\n",
       "6  0.035297  0.981498  0.341738  0.697627\n",
       "7  0.004993  0.509476  0.012593  0.336124\n",
       "8  0.608950  0.124126  0.206467  0.775886\n",
       "9  0.527680  0.863236  0.822703  0.582157"
      ]
     },
     "execution_count": 22,
     "metadata": {},
     "output_type": "execute_result"
    }
   ],
   "source": []
  },
  {
   "cell_type": "code",
   "execution_count": 80,
   "metadata": {},
   "outputs": [
    {
     "data": {
      "text/html": [
       "<div>\n",
       "<style scoped>\n",
       "    .dataframe tbody tr th:only-of-type {\n",
       "        vertical-align: middle;\n",
       "    }\n",
       "\n",
       "    .dataframe tbody tr th {\n",
       "        vertical-align: top;\n",
       "    }\n",
       "\n",
       "    .dataframe thead th {\n",
       "        text-align: right;\n",
       "    }\n",
       "</style>\n",
       "<table border=\"1\" class=\"dataframe\">\n",
       "  <thead>\n",
       "    <tr style=\"text-align: right;\">\n",
       "      <th></th>\n",
       "      <th>user_gender</th>\n",
       "      <th>target_gender</th>\n",
       "      <th>id</th>\n",
       "    </tr>\n",
       "  </thead>\n",
       "  <tbody>\n",
       "    <tr>\n",
       "      <th>0</th>\n",
       "      <td>a</td>\n",
       "      <td>a</td>\n",
       "      <td>93.796160</td>\n",
       "    </tr>\n",
       "    <tr>\n",
       "      <th>1</th>\n",
       "      <td>a</td>\n",
       "      <td>c</td>\n",
       "      <td>0.147710</td>\n",
       "    </tr>\n",
       "    <tr>\n",
       "      <th>2</th>\n",
       "      <td>a</td>\n",
       "      <td>f</td>\n",
       "      <td>1.772526</td>\n",
       "    </tr>\n",
       "    <tr>\n",
       "      <th>3</th>\n",
       "      <td>a</td>\n",
       "      <td>m</td>\n",
       "      <td>3.988183</td>\n",
       "    </tr>\n",
       "    <tr>\n",
       "      <th>4</th>\n",
       "      <td>a</td>\n",
       "      <td>u</td>\n",
       "      <td>0.295421</td>\n",
       "    </tr>\n",
       "    <tr>\n",
       "      <th>5</th>\n",
       "      <td>c</td>\n",
       "      <td>a</td>\n",
       "      <td>60.000000</td>\n",
       "    </tr>\n",
       "    <tr>\n",
       "      <th>6</th>\n",
       "      <td>c</td>\n",
       "      <td>c</td>\n",
       "      <td>20.000000</td>\n",
       "    </tr>\n",
       "    <tr>\n",
       "      <th>7</th>\n",
       "      <td>c</td>\n",
       "      <td>f</td>\n",
       "      <td>20.000000</td>\n",
       "    </tr>\n",
       "    <tr>\n",
       "      <th>8</th>\n",
       "      <td>f</td>\n",
       "      <td>a</td>\n",
       "      <td>36.265717</td>\n",
       "    </tr>\n",
       "    <tr>\n",
       "      <th>9</th>\n",
       "      <td>f</td>\n",
       "      <td>c</td>\n",
       "      <td>0.004396</td>\n",
       "    </tr>\n",
       "    <tr>\n",
       "      <th>10</th>\n",
       "      <td>f</td>\n",
       "      <td>f</td>\n",
       "      <td>11.162402</td>\n",
       "    </tr>\n",
       "    <tr>\n",
       "      <th>11</th>\n",
       "      <td>f</td>\n",
       "      <td>m</td>\n",
       "      <td>52.527917</td>\n",
       "    </tr>\n",
       "    <tr>\n",
       "      <th>12</th>\n",
       "      <td>f</td>\n",
       "      <td>t</td>\n",
       "      <td>0.008793</td>\n",
       "    </tr>\n",
       "    <tr>\n",
       "      <th>13</th>\n",
       "      <td>f</td>\n",
       "      <td>u</td>\n",
       "      <td>0.030775</td>\n",
       "    </tr>\n",
       "    <tr>\n",
       "      <th>14</th>\n",
       "      <td>m</td>\n",
       "      <td>a</td>\n",
       "      <td>13.311225</td>\n",
       "    </tr>\n",
       "    <tr>\n",
       "      <th>15</th>\n",
       "      <td>m</td>\n",
       "      <td>c</td>\n",
       "      <td>0.001602</td>\n",
       "    </tr>\n",
       "    <tr>\n",
       "      <th>16</th>\n",
       "      <td>m</td>\n",
       "      <td>f</td>\n",
       "      <td>82.076545</td>\n",
       "    </tr>\n",
       "    <tr>\n",
       "      <th>17</th>\n",
       "      <td>m</td>\n",
       "      <td>m</td>\n",
       "      <td>4.488874</td>\n",
       "    </tr>\n",
       "    <tr>\n",
       "      <th>18</th>\n",
       "      <td>m</td>\n",
       "      <td>t</td>\n",
       "      <td>0.083305</td>\n",
       "    </tr>\n",
       "    <tr>\n",
       "      <th>19</th>\n",
       "      <td>m</td>\n",
       "      <td>u</td>\n",
       "      <td>0.038449</td>\n",
       "    </tr>\n",
       "    <tr>\n",
       "      <th>20</th>\n",
       "      <td>t</td>\n",
       "      <td>a</td>\n",
       "      <td>17.021277</td>\n",
       "    </tr>\n",
       "    <tr>\n",
       "      <th>21</th>\n",
       "      <td>t</td>\n",
       "      <td>f</td>\n",
       "      <td>19.148936</td>\n",
       "    </tr>\n",
       "    <tr>\n",
       "      <th>22</th>\n",
       "      <td>t</td>\n",
       "      <td>m</td>\n",
       "      <td>63.829787</td>\n",
       "    </tr>\n",
       "    <tr>\n",
       "      <th>23</th>\n",
       "      <td>u</td>\n",
       "      <td>a</td>\n",
       "      <td>0.195312</td>\n",
       "    </tr>\n",
       "    <tr>\n",
       "      <th>24</th>\n",
       "      <td>u</td>\n",
       "      <td>c</td>\n",
       "      <td>0.027902</td>\n",
       "    </tr>\n",
       "    <tr>\n",
       "      <th>25</th>\n",
       "      <td>u</td>\n",
       "      <td>f</td>\n",
       "      <td>1.869420</td>\n",
       "    </tr>\n",
       "    <tr>\n",
       "      <th>26</th>\n",
       "      <td>u</td>\n",
       "      <td>m</td>\n",
       "      <td>3.404018</td>\n",
       "    </tr>\n",
       "    <tr>\n",
       "      <th>27</th>\n",
       "      <td>u</td>\n",
       "      <td>t</td>\n",
       "      <td>0.055804</td>\n",
       "    </tr>\n",
       "    <tr>\n",
       "      <th>28</th>\n",
       "      <td>u</td>\n",
       "      <td>u</td>\n",
       "      <td>94.447545</td>\n",
       "    </tr>\n",
       "  </tbody>\n",
       "</table>\n",
       "</div>"
      ],
      "text/plain": [
       "   user_gender target_gender         id\n",
       "0            a             a  93.796160\n",
       "1            a             c   0.147710\n",
       "2            a             f   1.772526\n",
       "3            a             m   3.988183\n",
       "4            a             u   0.295421\n",
       "5            c             a  60.000000\n",
       "6            c             c  20.000000\n",
       "7            c             f  20.000000\n",
       "8            f             a  36.265717\n",
       "9            f             c   0.004396\n",
       "10           f             f  11.162402\n",
       "11           f             m  52.527917\n",
       "12           f             t   0.008793\n",
       "13           f             u   0.030775\n",
       "14           m             a  13.311225\n",
       "15           m             c   0.001602\n",
       "16           m             f  82.076545\n",
       "17           m             m   4.488874\n",
       "18           m             t   0.083305\n",
       "19           m             u   0.038449\n",
       "20           t             a  17.021277\n",
       "21           t             f  19.148936\n",
       "22           t             m  63.829787\n",
       "23           u             a   0.195312\n",
       "24           u             c   0.027902\n",
       "25           u             f   1.869420\n",
       "26           u             m   3.404018\n",
       "27           u             t   0.055804\n",
       "28           u             u  94.447545"
      ]
     },
     "execution_count": 80,
     "metadata": {},
     "output_type": "execute_result"
    }
   ],
   "source": [
    "temp_df = (reddit_df.groupby([\"user_gender\", \"target_gender\"])\n",
    "                    .count()\n",
    "                    .reset_index()[[\"user_gender\", \"target_gender\", \"id\"]])\n",
    "\n",
    "for user_gender in temp_df[\"user_gender\"].unique():\n",
    "    nsum = np.sum(temp_df[temp_df[\"user_gender\"] == user_gender][\"id\"])\n",
    "    temp_df.loc[temp_df['user_gender'] == user_gender, \"id\"] = (temp_df[temp_df['user_gender'] \n",
    "                                                                        == user_gender][\"id\"]\n",
    "                                                                .apply(lambda x: (x/nsum)*100))\n",
    "temp_df"
   ]
  },
  {
   "cell_type": "code",
   "execution_count": 77,
   "metadata": {},
   "outputs": [
    {
     "data": {
      "text/html": [
       "<div>\n",
       "<style scoped>\n",
       "    .dataframe tbody tr th:only-of-type {\n",
       "        vertical-align: middle;\n",
       "    }\n",
       "\n",
       "    .dataframe tbody tr th {\n",
       "        vertical-align: top;\n",
       "    }\n",
       "\n",
       "    .dataframe thead th {\n",
       "        text-align: right;\n",
       "    }\n",
       "</style>\n",
       "<table border=\"1\" class=\"dataframe\">\n",
       "  <thead>\n",
       "    <tr style=\"text-align: right;\">\n",
       "      <th></th>\n",
       "      <th>user_gender</th>\n",
       "      <th>target_gender</th>\n",
       "      <th>id</th>\n",
       "    </tr>\n",
       "  </thead>\n",
       "  <tbody>\n",
       "    <tr>\n",
       "      <th>0</th>\n",
       "      <td>a</td>\n",
       "      <td>a</td>\n",
       "      <td>635.0</td>\n",
       "    </tr>\n",
       "    <tr>\n",
       "      <th>1</th>\n",
       "      <td>a</td>\n",
       "      <td>c</td>\n",
       "      <td>1.0</td>\n",
       "    </tr>\n",
       "    <tr>\n",
       "      <th>2</th>\n",
       "      <td>a</td>\n",
       "      <td>f</td>\n",
       "      <td>12.0</td>\n",
       "    </tr>\n",
       "    <tr>\n",
       "      <th>3</th>\n",
       "      <td>a</td>\n",
       "      <td>m</td>\n",
       "      <td>27.0</td>\n",
       "    </tr>\n",
       "    <tr>\n",
       "      <th>4</th>\n",
       "      <td>a</td>\n",
       "      <td>u</td>\n",
       "      <td>2.0</td>\n",
       "    </tr>\n",
       "    <tr>\n",
       "      <th>5</th>\n",
       "      <td>c</td>\n",
       "      <td>a</td>\n",
       "      <td>0.6</td>\n",
       "    </tr>\n",
       "    <tr>\n",
       "      <th>6</th>\n",
       "      <td>c</td>\n",
       "      <td>c</td>\n",
       "      <td>0.2</td>\n",
       "    </tr>\n",
       "    <tr>\n",
       "      <th>7</th>\n",
       "      <td>c</td>\n",
       "      <td>f</td>\n",
       "      <td>0.2</td>\n",
       "    </tr>\n",
       "    <tr>\n",
       "      <th>8</th>\n",
       "      <td>f</td>\n",
       "      <td>a</td>\n",
       "      <td>8249.0</td>\n",
       "    </tr>\n",
       "    <tr>\n",
       "      <th>9</th>\n",
       "      <td>f</td>\n",
       "      <td>c</td>\n",
       "      <td>1.0</td>\n",
       "    </tr>\n",
       "    <tr>\n",
       "      <th>10</th>\n",
       "      <td>f</td>\n",
       "      <td>f</td>\n",
       "      <td>2539.0</td>\n",
       "    </tr>\n",
       "    <tr>\n",
       "      <th>11</th>\n",
       "      <td>f</td>\n",
       "      <td>m</td>\n",
       "      <td>11948.0</td>\n",
       "    </tr>\n",
       "    <tr>\n",
       "      <th>12</th>\n",
       "      <td>f</td>\n",
       "      <td>t</td>\n",
       "      <td>2.0</td>\n",
       "    </tr>\n",
       "    <tr>\n",
       "      <th>13</th>\n",
       "      <td>f</td>\n",
       "      <td>u</td>\n",
       "      <td>7.0</td>\n",
       "    </tr>\n",
       "    <tr>\n",
       "      <th>14</th>\n",
       "      <td>m</td>\n",
       "      <td>a</td>\n",
       "      <td>8309.0</td>\n",
       "    </tr>\n",
       "    <tr>\n",
       "      <th>15</th>\n",
       "      <td>m</td>\n",
       "      <td>c</td>\n",
       "      <td>1.0</td>\n",
       "    </tr>\n",
       "    <tr>\n",
       "      <th>16</th>\n",
       "      <td>m</td>\n",
       "      <td>f</td>\n",
       "      <td>51233.0</td>\n",
       "    </tr>\n",
       "    <tr>\n",
       "      <th>17</th>\n",
       "      <td>m</td>\n",
       "      <td>m</td>\n",
       "      <td>2802.0</td>\n",
       "    </tr>\n",
       "    <tr>\n",
       "      <th>18</th>\n",
       "      <td>m</td>\n",
       "      <td>t</td>\n",
       "      <td>52.0</td>\n",
       "    </tr>\n",
       "    <tr>\n",
       "      <th>19</th>\n",
       "      <td>m</td>\n",
       "      <td>u</td>\n",
       "      <td>24.0</td>\n",
       "    </tr>\n",
       "    <tr>\n",
       "      <th>20</th>\n",
       "      <td>t</td>\n",
       "      <td>a</td>\n",
       "      <td>8.0</td>\n",
       "    </tr>\n",
       "    <tr>\n",
       "      <th>21</th>\n",
       "      <td>t</td>\n",
       "      <td>f</td>\n",
       "      <td>9.0</td>\n",
       "    </tr>\n",
       "    <tr>\n",
       "      <th>22</th>\n",
       "      <td>t</td>\n",
       "      <td>m</td>\n",
       "      <td>30.0</td>\n",
       "    </tr>\n",
       "    <tr>\n",
       "      <th>23</th>\n",
       "      <td>u</td>\n",
       "      <td>a</td>\n",
       "      <td>7.0</td>\n",
       "    </tr>\n",
       "    <tr>\n",
       "      <th>24</th>\n",
       "      <td>u</td>\n",
       "      <td>c</td>\n",
       "      <td>1.0</td>\n",
       "    </tr>\n",
       "    <tr>\n",
       "      <th>25</th>\n",
       "      <td>u</td>\n",
       "      <td>f</td>\n",
       "      <td>67.0</td>\n",
       "    </tr>\n",
       "    <tr>\n",
       "      <th>26</th>\n",
       "      <td>u</td>\n",
       "      <td>m</td>\n",
       "      <td>122.0</td>\n",
       "    </tr>\n",
       "    <tr>\n",
       "      <th>27</th>\n",
       "      <td>u</td>\n",
       "      <td>t</td>\n",
       "      <td>2.0</td>\n",
       "    </tr>\n",
       "    <tr>\n",
       "      <th>28</th>\n",
       "      <td>u</td>\n",
       "      <td>u</td>\n",
       "      <td>3385.0</td>\n",
       "    </tr>\n",
       "  </tbody>\n",
       "</table>\n",
       "</div>"
      ],
      "text/plain": [
       "   user_gender target_gender       id\n",
       "0            a             a    635.0\n",
       "1            a             c      1.0\n",
       "2            a             f     12.0\n",
       "3            a             m     27.0\n",
       "4            a             u      2.0\n",
       "5            c             a      0.6\n",
       "6            c             c      0.2\n",
       "7            c             f      0.2\n",
       "8            f             a   8249.0\n",
       "9            f             c      1.0\n",
       "10           f             f   2539.0\n",
       "11           f             m  11948.0\n",
       "12           f             t      2.0\n",
       "13           f             u      7.0\n",
       "14           m             a   8309.0\n",
       "15           m             c      1.0\n",
       "16           m             f  51233.0\n",
       "17           m             m   2802.0\n",
       "18           m             t     52.0\n",
       "19           m             u     24.0\n",
       "20           t             a      8.0\n",
       "21           t             f      9.0\n",
       "22           t             m     30.0\n",
       "23           u             a      7.0\n",
       "24           u             c      1.0\n",
       "25           u             f     67.0\n",
       "26           u             m    122.0\n",
       "27           u             t      2.0\n",
       "28           u             u   3385.0"
      ]
     },
     "execution_count": 77,
     "metadata": {},
     "output_type": "execute_result"
    }
   ],
   "source": [
    "temp2_df = temp_df.copy()\n",
    "user_gender = \"c\"\n",
    "nsum = np.sum(temp2_df[temp2_df[\"user_gender\"] == user_gender][\"id\"])\n",
    "temp2_df.loc[temp2_df['user_gender'] == user_gender, \"id\"] = temp2_df[temp2_df['user_gender'] == user_gender][\"id\"].apply(lambda x: x/nsum)\n",
    "temp2_df"
   ]
  },
  {
   "cell_type": "code",
   "execution_count": 81,
   "metadata": {},
   "outputs": [
    {
     "data": {
      "text/plain": [
       "<matplotlib.axes._subplots.AxesSubplot at 0x1572e53b2e0>"
      ]
     },
     "execution_count": 81,
     "metadata": {},
     "output_type": "execute_result"
    },
    {
     "data": {
      "image/png": "[encoded data removed]",
      "text/plain": [
       "<Figure size 432x288 with 1 Axes>"
      ]
     },
     "metadata": {
      "needs_background": "light"
     },
     "output_type": "display_data"
    }
   ],
   "source": [
    "temp_df.pivot(index=\"user_gender\", columns=\"target_gender\", values=\"id\").plot.barh(stacked=True)"
   ]
  },
  {
   "cell_type": "code",
   "execution_count": null,
   "metadata": {},
   "outputs": [],
   "source": []
  },
  {
   "cell_type": "markdown",
   "metadata": {},
   "source": [
    "#### Which Hour, Day of the Week, & Month are Users Mostly Active?"
   ]
  },
  {
   "cell_type": "code",
   "execution_count": 9,
   "metadata": {},
   "outputs": [
    {
     "data": {
      "text/plain": [
       "<matplotlib.axes._subplots.AxesSubplot at 0x15724958c40>"
      ]
     },
     "execution_count": 9,
     "metadata": {},
     "output_type": "execute_result"
    },
    {
     "data": {
      "image/png": "[encoded data removed]",
      "text/plain": [
       "<Figure size 432x288 with 1 Axes>"
      ]
     },
     "metadata": {
      "needs_background": "light"
     },
     "output_type": "display_data"
    }
   ],
   "source": [
    "days = list(calendar.day_name)\n",
    "temp_df = reddit_df.groupby(reddit_df.created_utc.dt.day_name()).count().reindex(days)\n",
    "sns.barplot(x=temp_df.index, y=temp_df[\"id\"])"
   ]
  },
  {
   "cell_type": "code",
   "execution_count": 10,
   "metadata": {},
   "outputs": [
    {
     "data": {
      "text/plain": [
       "<matplotlib.axes._subplots.AxesSubplot at 0x157249a3e80>"
      ]
     },
     "execution_count": 10,
     "metadata": {},
     "output_type": "execute_result"
    },
    {
     "data": {
      "image/png": "[encoded data removed]",
      "text/plain": [
       "<Figure size 432x288 with 1 Axes>"
      ]
     },
     "metadata": {
      "needs_background": "light"
     },
     "output_type": "display_data"
    }
   ],
   "source": [
    "temp_df = reddit_df.groupby(reddit_df.created_utc.dt.hour).count()\n",
    "sns.barplot(x=temp_df.index, y=temp_df[\"id\"])"
   ]
  },
  {
   "cell_type": "code",
   "execution_count": 11,
   "metadata": {},
   "outputs": [
    {
     "data": {
      "text/plain": [
       "<matplotlib.axes._subplots.AxesSubplot at 0x15724a8fd30>"
      ]
     },
     "execution_count": 11,
     "metadata": {},
     "output_type": "execute_result"
    },
    {
     "data": {
      "image/png": "[encoded data removed]",
      "text/plain": [
       "<Figure size 432x288 with 1 Axes>"
      ]
     },
     "metadata": {
      "needs_background": "light"
     },
     "output_type": "display_data"
    }
   ],
   "source": [
    "months = list(calendar.month_name)[1:]\n",
    "temp_df = reddit_df.groupby(reddit_df.created_utc.dt.month_name()).count().reindex(months)\n",
    "sns.barplot(x=temp_df.index, y=temp_df[\"id\"])"
   ]
  },
  {
   "cell_type": "code",
   "execution_count": 12,
   "metadata": {},
   "outputs": [
    {
     "data": {
      "text/plain": [
       "<matplotlib.axes._subplots.AxesSubplot at 0x157251ea9a0>"
      ]
     },
     "execution_count": 12,
     "metadata": {},
     "output_type": "execute_result"
    },
    {
     "data": {
      "image/png": "[encoded data removed]",
      "text/plain": [
       "<Figure size 432x288 with 1 Axes>"
      ]
     },
     "metadata": {
      "needs_background": "light"
     },
     "output_type": "display_data"
    }
   ],
   "source": [
    "temp_df = reddit_df.groupby(reddit_df.created_utc.dt.year).count()\n",
    "sns.barplot(x=temp_df.index, y=temp_df[\"id\"])"
   ]
  },
  {
   "cell_type": "markdown",
   "metadata": {},
   "source": [
    "#### Comment Count to Gender "
   ]
  },
  {
   "cell_type": "code",
   "execution_count": 84,
   "metadata": {},
   "outputs": [
    {
     "data": {
      "text/plain": [
       "<matplotlib.axes._subplots.AxesSubplot at 0x1572e5298e0>"
      ]
     },
     "execution_count": 84,
     "metadata": {},
     "output_type": "execute_result"
    },
    {
     "data": {
      "image/png": "[encoded data removed]",
      "text/plain": [
       "<Figure size 432x288 with 1 Axes>"
      ]
     },
     "metadata": {
      "needs_background": "light"
     },
     "output_type": "display_data"
    }
   ],
   "source": [
    "sns.boxplot(x=\"user_gender\", y=\"num_comments\", data=reddit_df)"
   ]
  },
  {
   "cell_type": "markdown",
   "metadata": {},
   "source": [
    "#### Post Score to Gender"
   ]
  },
  {
   "cell_type": "code",
   "execution_count": 85,
   "metadata": {},
   "outputs": [
    {
     "data": {
      "text/plain": [
       "<matplotlib.axes._subplots.AxesSubplot at 0x1572e631ee0>"
      ]
     },
     "execution_count": 85,
     "metadata": {},
     "output_type": "execute_result"
    },
    {
     "data": {
      "image/png": "[encoded data removed]",
      "text/plain": [
       "<Figure size 432x288 with 1 Axes>"
      ]
     },
     "metadata": {
      "needs_background": "light"
     },
     "output_type": "display_data"
    }
   ],
   "source": [
    "sns.boxplot(x=\"user_gender\", y=\"score\", data=reddit_df)"
   ]
  }
 ],
 "metadata": {
  "kernelspec": {
   "display_name": "Python 3",
   "language": "python",
   "name": "python3"
  },
  "language_info": {
   "codemirror_mode": {
    "name": "ipython",
    "version": 3
   },
   "file_extension": ".py",
   "mimetype": "text/x-python",
   "name": "python",
   "nbconvert_exporter": "python",
   "pygments_lexer": "ipython3",
   "version": "3.8.1"
  }
 },
 "nbformat": 4,
 "nbformat_minor": 4
}
