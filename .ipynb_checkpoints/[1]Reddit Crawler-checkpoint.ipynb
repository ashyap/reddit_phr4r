{
 "cells": [
  {
   "cell_type": "code",
   "execution_count": 19,
   "metadata": {},
   "outputs": [],
   "source": [
    "import praw\n",
    "import pandas as pd \n",
    "import datetime\n",
    "import Constants\n",
    "import csv\n",
    "import os \n",
    "import requests \n",
    "import datetime as dt\n",
    "import pytz\n",
    "import time"
   ]
  },
  {
   "cell_type": "code",
   "execution_count": 11,
   "metadata": {},
   "outputs": [
    {
     "data": {
      "text/plain": [
       "{'data': [{'created_utc': 1560921394,\n",
       "   'id': 'c2cxt7',\n",
       "   'num_comments': 181,\n",
       "   'score': 428,\n",
       "   'selftext': 'I’m a 28 year old virgin. Malapit na kong mawala sa kalendaryo nang hindi man lang nakakatikim ng gawa ng diyos. \\n\\n\\nLanghiyang mga telenovela kasi yan. Masyado akong napaniwala na may gwapong lalaking magkakagusto sakin kahit na ang panget ko. Ikaw may kasalanan nito, Betty La Fea! \\n\\n\\nBago niyo ko i-downvote at laitin dahil sa pagiging ilusyunada ko (Gusto pa gwapo eh ang panget naman!), hear me out muna. Pagbigyan niyo na ang hopeless romantic niyong tita. Gusto ko lang naman yung first experience ko eh mala-Dao Min Zu kahit na mukhang kuko lang ako ni Shan Chai. \\n\\n\\nPara sa mga gwapong redditors diyan, isipin niyo na lang charity case ‘to, ganern. Tipong maiba naman. Kung sawa ka na sa puro magaganda at sexy, try mo naman yung panget na mukhang isang bulate na lang di pumipirma. Takpan mo na lang ng unan mukha ko kung di mo talaga masikmura. Promise, no hard feelings.\\n\\n\\nAnyway, kahit naman di ako kagandahan kapag tinatanong ko naman mga kakilala ko kung panget ako, ang lagi naman nilang sagot “Di naman masyado”. So I have that going for me which is nice.\\n\\n\\nNga pala, flat chested rin ako kaya pwedeng pwede ka mag push up while we’re doing the deed. Walang sagabal. \\n\\n\\nReviews from friends and family:\\n\\n\\n“Umaarte lang yan nang naaayon sa ganda niya kaya wag kang mag-alala, walang ka-arte arte yan.” - Bestfriend\\n\\n\\n“If you’re wondering if she’s pretty or ugly, my answer is both. She’s pretty ugly.” - Ex boyfriend\\n\\n\\n“Nung nagsabog kasi ng kagandahan ang diyos, comatose yata siya.” - Older Brother\\n\\n\\n“Tuwing pagdating niya sa bahay lagi ko siyang tinatanong kung bakit ang sama nanaman ng mukha niya. Di pa rin kasi ako masanay na normal face na niya yun. 10/10 would recommend.” - Mother\\n\\n\\n“Kunin niyo na siya, please.” - Father \\n\\n\\n\\nPM me your pinakagwapong photo and let’s bang.',\n",
       "   'title': '28 [F4M] Panget na naghahanap ng gwapo - Manila'},\n",
       "  {'created_utc': 1520817467,\n",
       "   'id': '83r9qf',\n",
       "   'num_comments': 29,\n",
       "   'score': 301,\n",
       "   'selftext': \"Wear a condom. I cannot stress this enough.\\n\\n###CONTEXT###\\n\\nDue to the [recent news about an **HIV-1 subtype (AE)** infecting a majority of young HIV-positive people lately in this country](http://www.independent.co.uk/news/world/asia/hiv-drug-resistant-strain-philippines-asia-cure-treatment-infection-rate-rising-a8249621.html), it's appropriate to look out for yourself. Once infected the virus quickly advances to AIDS, faster than other subtypes. The virus is mutating rapidly -- there are more than 100 strains identified as of writing.\\n\\n###PREVENTION###\\n\\nIt's never about abstaining (although that is a surefire way of greatly mitigating risk), it's about safety. Another notch on your bedpost is not worth it if you're not doing it right. The next bareback encounter might be a death sentence (or a lifetime of anti-retroviral medication) you have unwittingly signed up for.\\n\\nForget about birth control, they don't decrease the risk of HIV transmissions. **Condoms** will help reduce the spread of any sexually-transmitted infections if used correctly and consistently. It is **not 100% safe**, but it is highly effective. Hits two, three, four or five birds with one stone.\\n\\n###TESTING###\\n\\nTesting is equally important. **HIV tests cannot detect immediate infection** -- there is a window period which varies from individual to individual. Generally, you can get tested after **three (3) weeks** of possible exposure. Sometimes the viral load is too low that it takes **up to six (6) weeks** to provide accurate results. A nucleic acid test (NAT) is used for people who are showing early symptoms of an infection. However, it's not part of routine testing procedure since it's quite costly, so it needs to be requested through a doctor specialising in internal medicine and infectious disease.\\n\\n**HIV1/HIV2 testing is free at certain public hospitals and clinics.** Take note that once you test positive, you will be added to the **HIV/AIDS Registry of the Philippines (HARP)** and will be subsequently monitored from time to time. You will be asked to provide an in-depth account of your sexual history as well. \\n\\nIf you want to approach testing **with confidentiality in mind**, you can visit hubs of the Research Institute of Tropical Medicine (Love Yourself) or the nearest private hospital. You can go the anonymous route and be identified only through a specific case number. Be mindful of fees.\\n\\nAside from Love Yourself, Project Red Ribbon also offers free testing and counseling. Their clinic is open 24/7 in Ortigas Center. (courtesy of u/hell0wurld)\\n\\nTry to **avoid testing with a HIV kit** at home.\\n\\n**Get tested every six months, if possible.** Commit to taking care of yourself. \\n\\n###TREATMENT###\\n\\nTreatment for HIV usually costs [**15,000PHP** per person, per year](http://cnnphilippines.com/incoming/2017/12/01/HIV-treatment-hubs-clinics-Philippines.html), but it is currently provided **free of charge** by the government through the Department of Health (DOH). Not everyone will receive this benefit. It depends upon the results of the test.\\n\\n**PhilHealth [subsidises the costs](http://news.abs-cbn.com/lifestyle/v1/12/01/15/what-hiv-patients-can-get-from-philhealth) up to 30,000PHP per year** through their Outpatient HIV/AIDS Treatment (OHAT) package, and **11,000PHP to 20,000PHP** for any HIV-related hospitalisation.\\n\\nIt's interesting to take note that there is a newly-launched initiative in the Philippines offering **pre-exposure propylaxis** (PrEP) to HIV-negative folks. **Taking one pill a day** prevents the virus from successfully replicating in your body, with minimal side-effects. It is best used with condoms, and getting yourself a clinical evaluation every three months. You can learn more about the PrePPY program through [Love Yourself.](http://www.loveyourself.ph/p/prep-basics.html) They allow sign-ups.\\n\\n**Post-exposure propylaxis** (PEP) is also available, but **must be taken [within 72 hours of exposure, for four weeks.](https://www.avert.org/learn-share/hiv-fact-sheets/emergency-treatment)**\\n\\n###RESOURCES###\\n\\n[Here is an extensive list of centres who can assist you with testing and anything HIV-related.](https://i.imgur.com/NFNOwaR.png) This was last updated on December 2017.\\n\\nYou can also download the **SafelyPH** app for [Android](https://play.google.com/store/apps/details?id=org.overdryv.safely) or [iOS](https://itunes.apple.com/us/app/safelyph/id1315441790).\\n\\n[Here is the FDA's website to help you inform yourself better about HIV/AIDS, from the basics, symptoms, risk and prevention, testing, treatment to ongoing research.](https://www.fda.gov/ForPatients/Illness/HIVAIDS/default.htm)\\n\\n###ANECDOTES###\\n\\nA few things: One of my colleagues died of pneumonia last year, six months after resigning from work. The other, of meningitis. There's another colleague from way back who's in the hospital due to HIV as of this very moment. Common denominator: they were all very recklessly promiscuous and active in the LGBT community. Not one of them is above 40 years old (23 being the youngest). **Learn from their mistakes.**\\n\\nA growing concern: We have tourists coming to this country exclusively for sex, as well as foreign nationals, which doesn't mean just visiting red light districts to solicit sex, but getting some booty through social apps such as Tinder, Bumble, Grindr and all other means, even Craigslist and you guessed it! R4R!\\n\\nI believe it's just prudent to stay on top of your game. Consider your choices carefully.\\n\\n**Bottom line, you can definitely stay safe while having fun. So take care, fellas!**\\n\\nEdit: Some cleanup, added another testing centre.\",\n",
       "   'title': '26 [F4R] Want to have sex with me?'},\n",
       "  {'created_utc': 1558650111,\n",
       "   'id': 'bs94qa',\n",
       "   'num_comments': 186,\n",
       "   'score': 251,\n",
       "   'selftext': 'Pasensya na at ako’y magmumukhang nagrarant, nawa’y makarating ito sayo. \\n\\nUnang una, wag overconfident. Wag i assume na sayang saya ako sayo dahil lang sumama ako. \\n\\nPanagalawa, wag sa telebisyon nakatingin kung may hubad na sa harap mo. Ikaw naman nag-aya, di ba? \\n\\nPangatlo, pakitago ng cellphone at paki silent ito. Kaya hindi ka tinatayuan eh. \\n\\nPang-apat, alamin ang salitang foreplay. Kuya, basain mo naman muna. Painitin mo, hindi yung papasok ka ng akala mo sarap na sarap ako. Walang kadating dating, sinasabi ko sayo. \\n\\nPang-lima, basic rule ata na kahit papano, alam mo kung nasaan ang clit. Baka kumuha ka muna ng anatomy lesson. Kahit anong turo ko sayo kung nasan at kahit anong guide gawin ko, wala pa din. \\n\\nPang-anim, kapag sinasabi sayo kung saan nasasarapan ang babae, makinig na. Hindi kita iniinsulto- tinutulungan kita. Makinig. Hindi yung kunwari lang- nasa ari ko ang mga kamay ngunit nasa telebisyon ang mata. Eh pota sana sa sinehan ka pumunta. \\n\\nPang pito, sana mahiya ka kung di man lang ako nilabasan pero ikaw, konting cariño lang, labas na. Okay lang naman. Ang kaso, ni hindi mo sinubukang bumawi. Para bang that’s all thank you. Tang ina mo. \\n\\nPang walo, wag masyado maarte. Wag hihingi kung di kaya suklian. Wag magpapasubo kung di mo kayang kumain. \\n\\nPang siyam, kapag hahawak ka ng puke, dahan dahanin mo naman! Lagyan mo ng rhythm, ng konting landi. Sensitive ang clitoris kuya. Dahan-dahan 😭😭😭 \\n\\nAt huli, mag disclose ka sana ng kink. Hindi yung pag dating natin sa kwarto saka ka magsasalita ng kung anu-anong ka weirduhan. \\n\\nSa mga lalaki dyan, mag foreplay naman kayo! Pota pasok agad, akala nyo penetration ang nagbibigay ng ultimate pleasure. Hindi sa lahat ng tao at hindi sa lahat ng pagkakataon. Magtanong, mag-usap, at mag-adjust. Maraming paraan para magpa cum. \\n\\nAnong point nito? Wala lang. Gusto ko lang ilabas sama ng loob ko. \\n\\nHindi ako nag cum at higit sa lahat, ang chaka mo! Sa mga lalaking over confident dyan, wag puro tokis. At the end of the day, yung koneksyon, atensyon at foreplay ang magdadala sainyo sa tugatog ng tagumpay 😂 \\n\\nAt sa naka sex ko, parusahan ka sana ng sex gods dahil hindi deserve ng titi mo ang mga puke ng mundo.',\n",
       "   'title': '25 [F4M] To the worst fuck I’ve ever had, Fuck you.'},\n",
       "  {'created_utc': 1556464351,\n",
       "   'id': 'bic7t2',\n",
       "   'num_comments': 189,\n",
       "   'score': 242,\n",
       "   'selftext': \"Dear male redditors,\\n\\nPlease have a little bit of decency to respect particulars of the posts here. \\n\\nIf ladies say no hanky panky, and they want company but you want sex, just don't contact them. \\n\\nQuite specifically it reads no ONS or hookups. But most go through the trouble set a meet up, promise to be hangout buddies, get comfortable, finally meet up, get intimate... then what? \\n\\nGet ghosted. \\n\\nPlease. Read the post. If you aren't aligned respect it and move along.\",\n",
       "   'title': '32 [F4M] Open letter to Male redditors'},\n",
       "  {'created_utc': 1558860195,\n",
       "   'id': 'bt5oil',\n",
       "   'num_comments': 57,\n",
       "   'score': 212,\n",
       "   'selftext': \"Dude, pare, mga chong, pag may nag post na babae na F4F, eh di BABAE ang hanap. Wag ka nang mag comment have let them entertain you dahil wala ka rin namang mapapala. Simple lang naman intindihin di ba? Pag ikaw ba nag post ng M4F, at may nag comment na lalaki wishing to talk to you, di ba ang annoying? Let's make this community not toxic. Ang dami na ngang nangg-ghost, flake dito, magiging kupal ka pa. Don't feed your ego as if you can c0VErT a lesbian to be straight. KUPAL.\\n\\nThanks for reading my TED talk\",\n",
       "   'title': '21 [M4A] Kupals..'},\n",
       "  {'created_utc': 1561728071,\n",
       "   'id': 'c6k4i6',\n",
       "   'num_comments': 40,\n",
       "   'score': 206,\n",
       "   'selftext': 'Someone take away my V card. Yeahh, I know I\\'m desperate. Please don\\'t judge.\\n\\n&amp;#x200B;\\n\\nAbout me:\\n\\n\\\\-5\\'3\" tall. \\n\\n\\\\-7/10. Di kana lugi.\\n\\n\\\\-4 eyes. My vision sucks.\\n\\n\\\\-Mabango (?)\\n\\n\\\\-Average body type. Big boobiees O O\\n\\n\\\\-Never been touched. Duuh\\n\\n&amp;#x200B;\\n\\nAbout you:\\n\\n\\\\- May experienced sa girls para di na tayo magkapaan sa dilim\\n\\n\\\\-Single. Mabilis ako mafall baka majowa kita. Who knows marupok eh.\\n\\n\\\\-Hella CUTE.\\n\\n\\\\-Clean. This is important.\\n\\n\\\\-Not a butch. ekis\\n\\n&amp;#x200B;\\n\\nI can\\'t host but we can AirBnb. Don\\'t worry I\\'ll pay. So Girls hmu your tele. For boys upvote na lang kayo. Walang makulit.\\n\\n&amp;#x200B;\\n\\n\\\\*IDK, might delete this post if I change my mind\\\\*',\n",
       "   'title': '23 [F4F] Pop My Cherry'},\n",
       "  {'created_utc': 1555079688,\n",
       "   'id': 'bce9ia',\n",
       "   'num_comments': 29,\n",
       "   'score': 188,\n",
       "   'selftext': \"If your family isn't supportive of you, guess what? You're my family now. Congratulations, drink plenty of water, get enough sleep and love whoever the hell completes you. I love you all brave souls.\\n\\n:)\",\n",
       "   'title': '22 [R4R] Read This'},\n",
       "  {'created_utc': 1568702328,\n",
       "   'id': 'd5d5bg',\n",
       "   'num_comments': 65,\n",
       "   'score': 186,\n",
       "   'selftext': \"Hi, \\n\\nI've been married for 1 year and a half now. We have been blessed with a boy who is now 8 months and my wife is also pregnant for 2 weeks. Life has been good. \\n\\nI was really a hardcore gamer when I was single. I was 19 when I decided to invest on a good gaming setup and I never really thought about anything instead of gaming back then. Even now, on my free time, I still play but only with games that can be paused and if online, doesn't require that much attention like teamfight tactics. I do play some rift on LOL if I know I won't be bothered for at least an hour. \\n\\nSo if you're like me, bored of single player games and looking for an online gaming buddy, feel free to hit me up.\\n\\nHere are the games I play.\\n\\nLeague of Legends - Currently P1, Road to D4 Ezreal, I am good at jungling\\n\\nStarcraft 2 -  1v1 only. We can 2v2 also. I am seriously not good at this game, I was D5 now Gold\\n\\nTekken 7 - Green rank, Noctis Main, Yes I am a hardcore FF Fan.\\n\\nDiablo 3 ROS - PVE so yeah lets coop and grind some paragons\\n\\nOverwatch - I play but haven't tried ranked games yet.\\n\\nIf you're looking for DOTA 2, I'm sorry I haven't played D2 for a long time. I was very active with tournaments during the Dota 1 era but just lost interest with the game when I got introduced to LOL. No LOL vs. Dota 2 comments please. \\n\\n&amp;#x200B;\\n\\nFor offline games, I mostly play managerial games like Factorio, Banished, Cities: Skylines and for AAA RPGs, I play Witcher 3 WH, Final Fantasy 7,8,9,10,10-2,12,13,13-2.\\n\\nWe can joke around and play for fun. You can even introduce me to the games you play. I always believe that any boring game can be fun when played with friends.\",\n",
       "   'title': '26 [M4A] Married and bored'},\n",
       "  {'created_utc': 1565780803,\n",
       "   'id': 'cq85k7',\n",
       "   'num_comments': 142,\n",
       "   'score': 185,\n",
       "   'selftext': \"Aye, I want to get laid. Before I am reminded of the fact that I haven't had sex since September 29, three, four, years ago. But reddit is not the only place for mindless intimacy with a stranger, I will hunt dick like a madwoman armed with a check list (condoms and lube, maybe pepper spray) and hope for the best. Be scouting on Tinder, Bumble and my Messenger friend list.\\n\\nI sound tired of being sex-less but I bet you a hundred bucks or more I can make myself cum better than you can, ever. That's not a challenge nor an insult directed towards men, I'm quite certain, depending on which of your hands is dominant, that you can argue a case for yourself. Or when you're utilising the services of a distinguished sex toy aptly named fleshlight (or pocket pussy for the unrefined). If you're insecure Twitter is ready for your outrage thread.\\n\\nI'm just looking for more fun because there's a gaping hole in my life that needs to be filled (literally and not, I feel like I'm a born-again virgin, a highly perverted 5th-grader). Two is better than one, and my imagination has its limits -- I am also never going to get in bed with the guys I lust after because they're out of my league aka Christoph Waltz. \\n\\nSee here mister, I am not a prude and I can take it in the arse because I want that aside from your standard penis-in-vagina sex or any oral supplication the both of us will prolly consider granting each other. If the former scares you -- you are not my kind of person.\\n\\nWhat I'll do: I will prep for a night or nights of debauchery like a prehistoric, paleolithic woman whose intellect matches that of a monkey because what else is truly needed of me, more than my enthusiasm -- you know, the occasional oohs and aahs, and more importantly, three of my squeaky orifices (four-ish if we're using my clangers, you must be ready for this because it's a requirement). Also I want to maintain that I am willing to negotiate whatever conditions you set, this is a mutual sexual venture after all, requiring no recompense or further investment (time, emotion, all the works that a healthy relationship entails). No stupid contracts, this is not a shitty porn opportunity nor is it fanfiction I rub off to when I run out of mental images.\\n\\nSo I'm working my arse off literally by hitting the gym so often just to avoid cramping while I ride whatever condition/size of a dick you're endowed with, as long as it's free of veneral diseases. And that you don't have a significant other who you should be banging our breaking up with if you're not doing the horizontal tango. No underage kids. Older, the better. I'll put on whatever fancy lingerie I feel is best suited because body autonomy, maybe extend you the basic courtesy of dinner and an hour of conversation. The illusory connection that runs deeper than physical attraction is great foreplay, and I've always wanted to be an actress.\\n\\nWe'll stay at a hotel = neutral grounds ('cause I've heard many a story of thieves and stalkers) and split the bill. Why so? To have your cake and eat it too? I offer two hands to pump your cock and pay your balls equal attention, not exactly dropping you a monetary donation to get luckier than me. You are not a whore, remember that. But I'll be your bitch and you'll be my whatever endearing insult you consider tolerable.\\n\\nAnd then goodbye after four hours. I hope it's four, I'll ugly cry if it's five minutes.\\n\\nIf I'm not attracted to you, don't take it personally. I won't beg you to consider my offer if the opposite happens.\\n\\nPS. I did try to be wholesome for a long time but here I am. Can't help but give into primal instinct. And if somebody minds boy I have great news for them -- progeny is impossible for humans if they were too abashed to express their desire to fuck.\\n\\nToodles canoodles.\",\n",
       "   'title': \"28 [F4M] Metro Manila - You don't know what you want but I do, really. Fuck somebody, can't be more direct that this. Maybe it's up your alley too. Of course it is.\"},\n",
       "  {'created_utc': 1565495696,\n",
       "   'id': 'cos3wy',\n",
       "   'num_comments': 24,\n",
       "   'score': 185,\n",
       "   'selftext': \"Do you wanna go eat at that new place, but all your friends are unavailable? Do you want to go to the cinemas, but hate watching alone? Do you just want to finish watching that Netflix show, but always get interrupted by c*ck? Do you just want advice or somebody to talk to?  Well look no further cause heeere's...\\n\\n&amp;nbsp;\\n#####DudeFriend™! Your replacement friend when all your other friends are useless!\\n&amp;nbsp;\\nHe can:\\n&amp;nbsp;\\n\\n+ eat anywhere you like\\n+ watch movies/series with you\\n+ grab drinks after work\\n+ go on roadtrips\\n+ take cute photos of you\\n+ 24/7 chat support (except when he's asleep) \\n+ optional: comes with 2 yorkies\\n\\n&amp;nbsp;\\n\\n30 day free trial  \\nNo money back guarantee\",\n",
       "   'title': '29 [M4F] New DudeFriend™! Special Reddit only promo!'},\n",
       "  {'created_utc': 1571545799,\n",
       "   'id': 'dkeydk',\n",
       "   'num_comments': 2,\n",
       "   'score': 184,\n",
       "   'selftext': 'Update lang to sa post ko kagabi about looking for friendly coffee buddy na girl.\\n\\nSo ito nangyari 11 girls chatted me 3 of them gusto lang makipag chat which is ok, at yung iba gusto ng palitan ng pics so nag social experiment ako by sending them my most ugly pics of me somewhere college days to see their reactions at nag send din namn sila pero sabihin natin sakto lang naman yung appearance(not that ugly) sorry sa term after that most of them ghinosted ako at nagsabi \"pass muna sila\" hahah grabe talaga mag expect yung mga girls na yun FRIENDLY COFFEE lang hanap ko hindi LOVELIFE.  \\n\\n\\nAnyway may isang babae na inaccept ako kahit pangit yung pic na sinend she still want to hang out with me so i send her a recent pic of me at nagulat siya hahaha at mag cocoffee hang out kami later at mag sasay thank you personally narin kasi she understand my friendship intentions at hindi siya advance mag isip lol.  \\n\\n\\nSa mga girls na nag ghosted sakin good luck sa pag hahanp ng pogi lol.',\n",
       "   'title': '24 [M4F] GIRL FRIEND COFFEE BUDDY UPDATE!'},\n",
       "  {'created_utc': 1560496416,\n",
       "   'id': 'c0h5yt',\n",
       "   'num_comments': 205,\n",
       "   'score': 183,\n",
       "   'selftext': \"My name is Z. \\n\\nIt's been 3 months since I was diagnosed with cancer. It was a tough ride. I had my lows and I had moments of near snap. I'm doing chemo now, and somehow I want to believe I am getting better. \\n\\nI've created this list, to remind me to fight, so if anyone wants to join or teach me to do any of these. Hit me up. \\n\\n1. Make 2000 random stranger smile.\\n2. Skydive\\n3. Bunjee Jump\\n4. Fire a Gun\\n5. Climb Mt. Apo\\n6. Go to Daanbantayan, Cebu\\n7. Start a community library\\n8. Bike from Luzon to Mindanao\\n9. Learn to ride a motorcycle.\\n10. Finish my Master's Degree\\n11. Teach (class)\\n12. Publish a book\\n13. Write a full-length film\\n14. Win Palanca\\n15. Scuba Dive / Ride a Speedboat\\n16. Get a passport\\n17. See Japan and New Zealand\\n18. 8 pack abs\\n19. Dance again in CCP\\n20.  Win a bodybuilding competition\\n21. Join Iron Man / Spartan Race \\n22. Dragonboat\\n23. Run a Full Marathon\\n24. See a Philippine Eagle\\n25. Visit as many Historical Marker in Philippines\\n26. Go Back to Baler\\n27. Win in an Eating Contest\\n28. Plant 1000 trees.\\n29. Drive a car\\n30. See Batanes\\n31. Invent something\\n32. Be good at surfing\\n33. Get my ear pierced\\n34. Full Sleeve Tattoo\\n35. Feed a thousand orphan\\n36. Write a stage play\\n37. Act in a senakulo\\n38. Skinny Dip\\n39. Be a macho dancer for a day\\n40. Be in a band\\n41. Do stand up comedy\\n42. Ride a RoRo\\n43. Set a world record\\n44. Sit on Santa's lap\\n45. Save a soul\\n46. See Tawi-Tawi\\n47. Wall climb\\n48. Ride a carousel\\n49. Spelunking\\n50. Go to El Nido\\n51. White Water Raftting\\n52. Try Archery\\n53. Ride a Tank\\n54. Laser Tag and Paintball\\n55. Bikini Wax \\n56. Be a grab driver for a day and do a carpool grab karaoke. (Grabioke)\\n57. See all my exes, say sorry and know what went wrong.\\n58. Inspire 10 people to rescue/adopt animals instead of buying.\\n59. Have atleast a yellow belt in any martial arts.\\n60. Walk the whole Bataan Death March route.\\n61. Do a cosplay\\n62. Be a professional wrestler.\\n63. Start a mental health advocacy\\n64. Fool people by making a fake commercial.\\n65. Camp Solo\\n66. Go to Kalayaan Islands in WPS\\n67. Direct a full length film\\n68. Publish a graphic novel\\n69. Help a 1000 people in any way\\n70. Bake a pie\\n71. See a meteor shower \\n72. Catch a big fish (release it back)\\n73. Smoke a Cuban Cigar\\n74. Magnet fishing\\n75. Gaze at a thousand fireflies\\n76. Trampoline\\n77. Read a 1000 novel\\n78. Learn how to play a card game\\n79. Skateboard / Longboard trick\\n80. Own a suit\\n81. Play a turntable (DJ) \\n82. Go Kart\\n83. See a turtle egg hatch\\n84. Donate to a charity\\n85. Be a clown to perform in an orphanage. \\n86. Learn a magic trick\\n87. Voice Dubbing\\n88. Paint \\n89. Do an exhibit \\n90. Be a radio jock (DJ)\\n91. Crossstich or crochet\\n92. Touch a camel or a giraffe\\n93. Hitchhike\\n94. Ask a random stranger to go on a spontaneous road trip.\\n95. Create an app.\\n96. Get married. \\n97. Be a good father and a husband\\n98. Spend my last days in a house with a porch facing an ocean.\\n99. Donate an organ when I'm gone.\\n100. Inspire People\",\n",
       "   'title': '31 [M4A] Bucketlist Buddy'},\n",
       "  {'created_utc': 1568271480,\n",
       "   'id': 'd344qt',\n",
       "   'num_comments': 7,\n",
       "   'score': 182,\n",
       "   'selftext': \"Sex is not the answer for your broken heart nor it will make the pain go away. Sex is not the answer for your insecurities, it will only make it worst after ghosting and rejection. Sex is not the answer for your sadness nor you should try to use sex for you to feel appreciated. People sometimes just give you the validation that you want to hear just to get into your pants. \\n\\nI am offering you my time, if you want to talk to someone, vent out, cry or whatever it is in your mind. Do not cling on the same branch that caused you pain. You cannot heal in the same environment that made you sick. \\n\\nBut if you’re horny, go have fun though you should ask yourself, are you really horny or just trying to mask your sadness or filling some kind of void in you?\\n\\nAnd to those who preys on people who's not emotionally stable, I have a question for you, WHY?\\n\\nI have Telegram, you can talk to me there. And yes, no ghosting, I promise.\",\n",
       "   'title': '25 [F4A] Sex'},\n",
       "  {'created_utc': 1563715336,\n",
       "   'id': 'cfyxkj',\n",
       "   'num_comments': 56,\n",
       "   'score': 174,\n",
       "   'selftext': \"So I'm just trying my luck here to find that guy who was at Vikings Megamall earlier. He greeted me HBD but I wasn't able to make a move, despite the fact that he seems like he's put some effort to try to talk, because the parentals are with me.\\n\\nIDK if he has reddit but PLEASE HELP 😂 If you're here, you should know who you are, hopefully. You were wearing white shirt and brown(?) shorts. You have a tattoo on your arm and leg.\\n\\nHMU if you are him or maybe you were with him earlier? Hahaha. IDK whatever. Or you can upvote this post to help a girl out with her first post and for my desperate attempt to try to find that guy? 😂 thankssss! 👍\",\n",
       "   'title': '24 [F4M] LF Vikings Guy'},\n",
       "  {'created_utc': 1565414594,\n",
       "   'id': 'coe0bp',\n",
       "   'num_comments': 11,\n",
       "   'score': 171,\n",
       "   'selftext': \"Hi. I'm posting this in behalf of my friend. If you are a Filipino who follows phr4r, have this reddit username KuroOrder (or a bit the same), who loves to draw and lives in Canada, please do message me as my friend is looking for you. She deleted her reddit that's why she lost touch with you and forgot your exact username.  Thank you.\",\n",
       "   'title': '26 [F4M] Pinoy from Canada'},\n",
       "  {'created_utc': 1560256507,\n",
       "   'id': 'bzbwx9',\n",
       "   'num_comments': 72,\n",
       "   'score': 165,\n",
       "   'selftext': \"Not everyone is your friend,not everyone can be trusted.\\n\\nWe were talking a few weeks and i liked him. We met and dated. He asked me to buy something in 711 and took off with my things that i left in his car.my entire bag. My phone isnt even high end so who wouldve thought someone will steal it. I always say im pretty broke and i didnt have much money on me. He knows my story and he knows how much im suffering. He didnt care and still took advantage of me.\\n\\n I know it seemed all so stupid of me. He seemed decent. He talks decent and looks decent, he has a car and paid for the date. So who wouldve thought right. Im posting this as a public service announcement to be not like me. Keep your guard up. Phr4r has been infiltrated by this kind of people.\\n\\nHe's semi-kal, full bearded guy, looks bumbayin around 5'7 to 5'9 goes by the name ken obena in TG. He has a scar that looks like a burn on his right lower arm near the hand. His 2 front teeth has a bit of a crack.\\n\\nu/hellskitchen__\\n\\nhttps://www.reddit.com/u/hellskitchen__?utm_medium=android_app&amp;utm_source=share\\n\\n\\nPlease take care people. Worse things can happen.\",\n",
       "   'title': \"29 [R4R] Attention! I've been scammed. He stole everything.\"},\n",
       "  {'created_utc': 1566410133,\n",
       "   'id': 'ctkf8v',\n",
       "   'num_comments': 8,\n",
       "   'score': 159,\n",
       "   'selftext': 'Would you date a girl diagnosed with a mental illness?\\n\\nTo share my story, I am a NBSB and im 25. Im in no rush,but i have been in the dating game for a few years now. Most guys I talk to would ask why I never had a bf. I would just say “hindi lang ako malapit sa lalaki” or “choice ko lang yun” as my excuse. But today, I just found my answer.\\n\\nI watched “My Letters to Happy” for the second time today. I realized that like Happy,  some battles I have to face on my own. I am a diagnosed Bipolar Type II, now stable and asymptomatic after one and a half year of medications. Like Happy, i realized that being in a relationship is difficult for me, because im afraid of being called crazy or clingy when I’m in my manic phase, moody when im down or irritable, i’m afraid of being misunderstood. Thats why i dont like to be in a relationship. But sometimes i wonder, how does it feel like to be with someone who will support you in your everyday battles?\\n\\nSo, would you date me? \\nDM me your answers. Yes or no and why or why not? Hahaha. Thank you in advance!\\n\\nPS. Looking for someone to date. One last time for a while. Wholesome only ✌️',\n",
       "   'title': '25 [F4M] Would you date me if..'},\n",
       "  {'created_utc': 1552540254,\n",
       "   'id': 'b0wc0m',\n",
       "   'num_comments': 59,\n",
       "   'score': 157,\n",
       "   'selftext': '[removed]',\n",
       "   'title': '29 [F4M] AB+ ba ang dugo mo? Willing to donate? I’ll take you out on a date.'},\n",
       "  {'created_utc': 1564115585,\n",
       "   'id': 'chyb2l',\n",
       "   'num_comments': 67,\n",
       "   'score': 153,\n",
       "   'selftext': \"Hi! I need extra funds to pay for my rent, bills, and other daily needs. I'm currently employed in UPD but our salary is delayed. :( Haven't been paid since May. So I'm offering the following services. Hope we can work together! \\n\\nI can:\\n- proofread and copyedit (thesis, manus, website)\\n- transcribe (interviews, videos, audio files, raw to digital files)\\n- shoot photos or videos (portraits, birthdays, maternity, newborn/toddler, small events)\\n- do simple video editing\\n- teach English as a Second Language for foreigners\\n- tutor kids, HS, SHS, and college  (English, Filipino, journalism)\\n- teach basic to intermediate photography \\n- babysit, run errands for you, do grocery for you! :)\\n\\nFor inquiries, please send me a message. Thank you so much!\",\n",
       "   'title': '24 [F4A] hire me!'},\n",
       "  {'created_utc': 1561438836,\n",
       "   'id': 'c52tnt',\n",
       "   'num_comments': 29,\n",
       "   'score': 152,\n",
       "   'selftext': \"So tigil muna tayo sa mga landian mga besh! Or kung sawa kana sa life mo , kung bored na bored kana sa nang yayari sayo araw araw.\\n\\n\\nSet a side muna natin yan parang pag hiwalay  sa puting damit at de color \\n\\n\\nAnyone up im planning to organize an event (actually not event) Let's give food sa mga batang lansangan o sa mga na ngangailangan\\n\\n\\nSagot ko na yung 2k maliit pero pag pinag sama sama alam kong malaki nadin yan  \\n\\n\\nLuto tayo ng foods like\\n\\n°Spageytes\\n\\n°Panshets\\n\\n°Sandweyts\\n\\n\\nTapos baka meron nadin kayong sasakyan ok yan para dun narin mag momol or quickie after 😂\",\n",
       "   'title': '25 [M4AAAAAAAAAAAAAAAAAA] Sharing is caring!'}]}"
      ]
     },
     "execution_count": 11,
     "metadata": {},
     "output_type": "execute_result"
    }
   ],
   "source": [
    "# URL = \"https://api.pushshift.io/reddit/submission/search/?after=1483228800&before=1577836800&sort_type=score&sort=desc&subreddit=phr4r&size=20\"\n",
    "URL = \"https://api.pushshift.io/reddit/submission/search/\"\n",
    "PARAMS = {\n",
    "    'after': 1483228800,\n",
    "    'before': 1577836800,\n",
    "    'sort_type': 'score',\n",
    "    'sort': 'desc',\n",
    "    'subreddit': 'phr4r',\n",
    "    'size': 20,\n",
    "    'fields': [\"id\",\"title\",\"selftext\",\"score\",\"num_comments\",\"created_utc\"]\n",
    "}\n",
    "r = requests.get(url = URL, params=PARAMS)\n",
    "r.json()"
   ]
  },
  {
   "cell_type": "code",
   "execution_count": 12,
   "metadata": {},
   "outputs": [
    {
     "data": {
      "text/plain": [
       "'https://api.pushshift.io/reddit/submission/search/?after=1483228800&before=1577836800&sort_type=score&sort=desc&subreddit=phr4r&size=20&fields=id&fields=title&fields=selftext&fields=score&fields=num_comments&fields=created_utc'"
      ]
     },
     "execution_count": 12,
     "metadata": {},
     "output_type": "execute_result"
    }
   ],
   "source": [
    "r.url"
   ]
  },
  {
   "cell_type": "code",
   "execution_count": null,
   "metadata": {},
   "outputs": [],
   "source": [
    "r.json()['data']"
   ]
  },
  {
   "cell_type": "code",
   "execution_count": null,
   "metadata": {},
   "outputs": [],
   "source": [
    "r.status_code"
   ]
  },
  {
   "cell_type": "code",
   "execution_count": 22,
   "metadata": {},
   "outputs": [
    {
     "data": {
      "text/plain": [
       "1323734400.0"
      ]
     },
     "execution_count": 22,
     "metadata": {},
     "output_type": "execute_result"
    }
   ],
   "source": [
    "date = dt.datetime.strptime(\"2011-12-12\", \"%Y-%m-%d\")\n",
    "date += dt.timedelta(days=1)\n",
    "timestamp = date.replace(tzinfo=dt.timezone.utc).timestamp()\n",
    "timestamp"
   ]
  },
  {
   "cell_type": "code",
   "execution_count": 23,
   "metadata": {},
   "outputs": [
    {
     "data": {
      "text/plain": [
       "30"
      ]
     },
     "execution_count": 23,
     "metadata": {},
     "output_type": "execute_result"
    }
   ],
   "source": [
    "start_date = dt.datetime.strptime(\"2011-12-1\", \"%Y-%m-%d\")\n",
    "end_date = dt.datetime.strptime(\"2011-12-31\", \"%Y-%m-%d\")\n",
    "(end_date - start_date).days"
   ]
  },
  {
   "cell_type": "code",
   "execution_count": 25,
   "metadata": {},
   "outputs": [
    {
     "data": {
      "text/plain": [
       "'2011-12-01'"
      ]
     },
     "execution_count": 25,
     "metadata": {},
     "output_type": "execute_result"
    }
   ],
   "source": [
    "start_date.strftime(\"%Y-%m-%d\")"
   ]
  },
  {
   "cell_type": "code",
   "execution_count": null,
   "metadata": {},
   "outputs": [],
   "source": [
    "pd.date_range(start_date, periods=(end_date - start_date).days).tolist()"
   ]
  },
  {
   "cell_type": "code",
   "execution_count": null,
   "metadata": {},
   "outputs": [],
   "source": [
    "date_range = pd.date_range(start_date, periods=(end_date - start_date).days).tolist()\n",
    "for i, s_date in enumerate(date_range):\n",
    "    if i != len(date_range) -1:\n",
    "        print(i, s_date, date_range[i+1])"
   ]
  },
  {
   "cell_type": "code",
   "execution_count": 27,
   "metadata": {},
   "outputs": [
    {
     "name": "stdout",
     "output_type": "stream",
     "text": [
      "in exit\n",
      "in exit\n",
      "phr4r.csv exists, getting ids that have been crawled\n",
      "in exit\n",
      "[Timestamp('2020-03-01 00:00:00', freq='D'), Timestamp('2020-03-02 00:00:00', freq='D'), Timestamp('2020-03-03 00:00:00', freq='D')]\n",
      "Doing 2020-03-01 to 2020-03-02\n",
      "=====Done\n",
      "Doing 2020-03-02 to 2020-03-03\n",
      "=====Done\n"
     ]
    }
   ],
   "source": [
    "class RedditPost:\n",
    "    def __init__(self, dict_obj):\n",
    "        for key in dict_obj.keys():\n",
    "            setattr(self, key, dict_obj[key])\n",
    "            \n",
    "class RedditCsvWriter:\n",
    "    def __init__(self, filename):\n",
    "        self.columns = [\"id\", \"title\", \"selftext\", \"num_comments\", \n",
    "                        \"score\", \"created_utc\"]\n",
    "        self.crawled_ids = []\n",
    "        if os.path.isfile(filename):\n",
    "            print(f\"{filename} exists, getting ids that have been crawled\")\n",
    "            self.file = open(filename, mode='a', encoding='utf-8')\n",
    "            self.file_writer = csv.writer(self.file, delimiter=',')\n",
    "            \n",
    "            temp_df = pd.read_csv(filename)\n",
    "            self.crawled_ids = temp_df[\"id\"].values.tolist()\n",
    "        else:\n",
    "            print(f\"{filename} does NOT exist, creating file\")\n",
    "            self.file = open(filename, mode='w', encoding='utf-8')\n",
    "            self.file_writer = csv.writer(self.file, delimiter=',')\n",
    "            self.file_writer.writerow(self.columns)\n",
    "            \n",
    "        \n",
    "    def write_submissions(self, submissions):\n",
    "        for submission in submissions[\"data\"]:\n",
    "            if submission[\"id\"] not in self.crawled_ids: \n",
    "                self.file_writer.writerow([submission[col] for col in self.columns])\n",
    "                self.crawled_ids.append(submission[\"id\"])\n",
    "        \n",
    "    def __del__(self):\n",
    "        self.file.close()\n",
    "        \n",
    "class SubRedditCrawler:\n",
    "    def __init__(self, sub, start_date=\"2017-01-01\", \n",
    "                 end_date=\"2020-01-01\", sort_type=\"score\",\n",
    "                 sort=\"desc\", filename=\"phr4r.csv\",\n",
    "                 fields=[\"id\",\"title\",\"selftext\",\"score\",\"num_comments\",\"created_utc\"]\n",
    "                 ):\n",
    "        self.sub = sub\n",
    "        self.start_date = dt.datetime.strptime(start_date, \"%Y-%m-%d\")\n",
    "        self.end_date = dt.datetime.strptime(end_date, \"%Y-%m-%d\")\n",
    "        self.sort_type = sort_type\n",
    "        self.sort = sort\n",
    "        self.fields = fields\n",
    "        self.reddit_writer = RedditCsvWriter(filename)\n",
    "        self.url = \"https://api.pushshift.io/reddit/submission/search/\"\n",
    "        \n",
    "    def to_utc(self, date):\n",
    "        return int(date.replace(tzinfo=dt.timezone.utc).timestamp())\n",
    "    \n",
    "    def to_readable_date(self, timestamp):\n",
    "        return dt.datetime.fromtimestamp(timestamp).strftime(\"%Y-%m-%d\")\n",
    "        \n",
    "    def get_posts(self):\n",
    "        date_range = (pd.date_range(self.start_date, \n",
    "                                    periods=(self.end_date - self.start_date).days)\n",
    "                      .tolist())\n",
    "        print(date_range)\n",
    "        for i, s_date in enumerate(date_range):\n",
    "            if i != len(date_range)-1:\n",
    "                e_date = date_range[i+1]\n",
    "                r = requests.get(url = self.url, params={\n",
    "                    'after': self.to_utc(s_date),\n",
    "                    'before': self.to_utc(e_date),\n",
    "                    'sort_type': self.sort_type,\n",
    "                    'sort': self.sort,\n",
    "                    'subreddit': self.sub,\n",
    "                    'fields': self.fields,\n",
    "                    \"size\": 500\n",
    "                })\n",
    "                \n",
    "                print(f\"Doing {s_date.strftime('%Y-%m-%d')} to {e_date.strftime('%Y-%m-%d')}\")\n",
    "                if r.status_code == 200:\n",
    "                    self.reddit_writer.write_submissions(r.json())\n",
    "                    print(\"=====Done\")\n",
    "                else:\n",
    "                    print(\"=====Skipped\")\n",
    "                time.sleep(1)\n",
    "\n",
    "reddit_crawler = SubRedditCrawler(\"phr4r\", start_date=\"2020-03-01\", end_date=\"2020-03-04\")        \n",
    "reddit_crawler.get_posts()"
   ]
  },
  {
   "cell_type": "code",
   "execution_count": 21,
   "metadata": {},
   "outputs": [
    {
     "ename": "NameError",
     "evalue": "name 's_date' is not defined",
     "output_type": "error",
     "traceback": [
      "\u001b[1;31m---------------------------------------------------------------------------\u001b[0m",
      "\u001b[1;31mNameError\u001b[0m                                 Traceback (most recent call last)",
      "\u001b[1;32m<ipython-input-21-9b812f60bf10>\u001b[0m in \u001b[0;36m<module>\u001b[1;34m\u001b[0m\n\u001b[1;32m----> 1\u001b[1;33m \u001b[0ms_date\u001b[0m\u001b[1;33m\u001b[0m\u001b[1;33m\u001b[0m\u001b[0m\n\u001b[0m",
      "\u001b[1;31mNameError\u001b[0m: name 's_date' is not defined"
     ]
    }
   ],
   "source": [
    "s_date"
   ]
  },
  {
   "cell_type": "code",
   "execution_count": 18,
   "metadata": {},
   "outputs": [
    {
     "data": {
      "text/plain": [
       "(642, 6)"
      ]
     },
     "execution_count": 18,
     "metadata": {},
     "output_type": "execute_result"
    }
   ],
   "source": [
    "pd.read_csv(\"phr4r.csv\").shape"
   ]
  }
 ],
 "metadata": {
  "kernelspec": {
   "display_name": "Python 3",
   "language": "python",
   "name": "python3"
  },
  "language_info": {
   "codemirror_mode": {
    "name": "ipython",
    "version": 3
   },
   "file_extension": ".py",
   "mimetype": "text/x-python",
   "name": "python",
   "nbconvert_exporter": "python",
   "pygments_lexer": "ipython3",
   "version": "3.8.1"
  }
 },
 "nbformat": 4,
 "nbformat_minor": 4
}
