{
 "cells": [
  {
   "cell_type": "code",
   "execution_count": 1,
   "metadata": {},
   "outputs": [],
   "source": [
    "import praw\n",
    "import pandas as pd \n",
    "import datetime\n",
    "import Constants\n",
    "import csv\n",
    "import os \n"
   ]
  },
  {
   "cell_type": "code",
   "execution_count": null,
   "metadata": {},
   "outputs": [],
   "source": [
    "cols = ['1', '2']\n",
    "dic = {'1':1, '2':2}\n",
    "[dic[col] for col in cols ]\n",
    "# list(dic.values())"
   ]
  },
  {
   "cell_type": "code",
   "execution_count": 2,
   "metadata": {},
   "outputs": [
    {
     "name": "stdout",
     "output_type": "stream",
     "text": [
      "phr4r.csv does NOT exist, creating file\n",
      "{'id': 'fkpxpp', 'title': '22 [F4A] I miss surfing 🏄', 'selftext': \"I want to surf to a new spot after all this events and safe to travel na uli... Looking for someone who can show and join me to surf to a place I haven't been to. Dm me your proposed location and hopefully we can plan something soon!\\n\\nDrawing drawing muna tayo.. 🌊🏄🤙\", 'num_comments': 1, 'score': 2, 'ups': 2, 'downs': 0, 'created_utc': 1584539975.0}\n"
     ]
    },
    {
     "ename": "AttributeError",
     "evalue": "'dict' object has no attribute 'id'",
     "output_type": "error",
     "traceback": [
      "\u001b[1;31m---------------------------------------------------------------------------\u001b[0m",
      "\u001b[1;31mAttributeError\u001b[0m                            Traceback (most recent call last)",
      "\u001b[1;32m<ipython-input-2-6ee3022299be>\u001b[0m in \u001b[0;36m<module>\u001b[1;34m\u001b[0m\n\u001b[0;32m     72\u001b[0m \u001b[1;33m\u001b[0m\u001b[0m\n\u001b[0;32m     73\u001b[0m \u001b[0mreddit_crawler\u001b[0m \u001b[1;33m=\u001b[0m \u001b[0mSubRedditCrawler\u001b[0m\u001b[1;33m(\u001b[0m\u001b[1;34m\"phr4r\"\u001b[0m\u001b[1;33m)\u001b[0m\u001b[1;33m\u001b[0m\u001b[1;33m\u001b[0m\u001b[0m\n\u001b[1;32m---> 74\u001b[1;33m \u001b[0mreddit_crawler\u001b[0m\u001b[1;33m.\u001b[0m\u001b[0mget_posts\u001b[0m\u001b[1;33m(\u001b[0m\u001b[1;33m)\u001b[0m\u001b[1;33m\u001b[0m\u001b[1;33m\u001b[0m\u001b[0m\n\u001b[0m",
      "\u001b[1;32m<ipython-input-2-6ee3022299be>\u001b[0m in \u001b[0;36mget_posts\u001b[1;34m(self)\u001b[0m\n\u001b[0;32m     60\u001b[0m         \u001b[0msubreddit\u001b[0m \u001b[1;33m=\u001b[0m \u001b[0mself\u001b[0m\u001b[1;33m.\u001b[0m\u001b[0mset_sort\u001b[0m\u001b[1;33m(\u001b[0m\u001b[1;33m)\u001b[0m\u001b[1;33m\u001b[0m\u001b[1;33m\u001b[0m\u001b[0m\n\u001b[0;32m     61\u001b[0m         \u001b[1;32mfor\u001b[0m \u001b[0mpost\u001b[0m \u001b[1;32min\u001b[0m \u001b[0msubreddit\u001b[0m\u001b[1;33m:\u001b[0m\u001b[1;33m\u001b[0m\u001b[1;33m\u001b[0m\u001b[0m\n\u001b[1;32m---> 62\u001b[1;33m             self.reddit_writer.write_submission({\n\u001b[0m\u001b[0;32m     63\u001b[0m                 \u001b[1;34m\"id\"\u001b[0m\u001b[1;33m:\u001b[0m \u001b[0mpost\u001b[0m\u001b[1;33m.\u001b[0m\u001b[0mid\u001b[0m\u001b[1;33m,\u001b[0m\u001b[1;33m\u001b[0m\u001b[1;33m\u001b[0m\u001b[0m\n\u001b[0;32m     64\u001b[0m                 \u001b[1;34m\"title\"\u001b[0m\u001b[1;33m:\u001b[0m \u001b[0mpost\u001b[0m\u001b[1;33m.\u001b[0m\u001b[0mtitle\u001b[0m\u001b[1;33m,\u001b[0m\u001b[1;33m\u001b[0m\u001b[1;33m\u001b[0m\u001b[0m\n",
      "\u001b[1;32m<ipython-input-2-6ee3022299be>\u001b[0m in \u001b[0;36mwrite_submission\u001b[1;34m(self, submission)\u001b[0m\n\u001b[0;32m     27\u001b[0m         \u001b[1;32mif\u001b[0m \u001b[0msubmission\u001b[0m\u001b[1;33m[\u001b[0m\u001b[1;34m\"id\"\u001b[0m\u001b[1;33m]\u001b[0m \u001b[1;32mnot\u001b[0m \u001b[1;32min\u001b[0m \u001b[0mself\u001b[0m\u001b[1;33m.\u001b[0m\u001b[0mcrawled_ids\u001b[0m\u001b[1;33m:\u001b[0m\u001b[1;33m\u001b[0m\u001b[1;33m\u001b[0m\u001b[0m\n\u001b[0;32m     28\u001b[0m             \u001b[0mself\u001b[0m\u001b[1;33m.\u001b[0m\u001b[0mfile_writer\u001b[0m\u001b[1;33m.\u001b[0m\u001b[0mwriterow\u001b[0m\u001b[1;33m(\u001b[0m\u001b[1;33m[\u001b[0m\u001b[0msubmission\u001b[0m\u001b[1;33m[\u001b[0m\u001b[0mcol\u001b[0m\u001b[1;33m]\u001b[0m \u001b[1;32mfor\u001b[0m \u001b[0mcol\u001b[0m \u001b[1;32min\u001b[0m \u001b[0mself\u001b[0m\u001b[1;33m.\u001b[0m\u001b[0mcolumns\u001b[0m\u001b[1;33m]\u001b[0m\u001b[1;33m)\u001b[0m\u001b[1;33m\u001b[0m\u001b[1;33m\u001b[0m\u001b[0m\n\u001b[1;32m---> 29\u001b[1;33m             \u001b[0mself\u001b[0m\u001b[1;33m.\u001b[0m\u001b[0mcrawled_ids\u001b[0m\u001b[1;33m.\u001b[0m\u001b[0mappend\u001b[0m\u001b[1;33m(\u001b[0m\u001b[0msubmission\u001b[0m\u001b[1;33m.\u001b[0m\u001b[0mid\u001b[0m\u001b[1;33m)\u001b[0m\u001b[1;33m\u001b[0m\u001b[1;33m\u001b[0m\u001b[0m\n\u001b[0m\u001b[0;32m     30\u001b[0m \u001b[1;33m\u001b[0m\u001b[0m\n\u001b[0;32m     31\u001b[0m     \u001b[1;32mdef\u001b[0m \u001b[0m__exit__\u001b[0m\u001b[1;33m(\u001b[0m\u001b[0mself\u001b[0m\u001b[1;33m)\u001b[0m\u001b[1;33m:\u001b[0m\u001b[1;33m\u001b[0m\u001b[1;33m\u001b[0m\u001b[0m\n",
      "\u001b[1;31mAttributeError\u001b[0m: 'dict' object has no attribute 'id'"
     ]
    }
   ],
   "source": [
    "class RedditPost:\n",
    "    def __init__(self, dict_obj):\n",
    "        for key in dict_obj.keys():\n",
    "            setattr(self, key, dict_obj[key])\n",
    "            \n",
    "class RedditCsvWriter:\n",
    "    def __init__(self, filename):\n",
    "        self.columns = [\"id\", \"title\", \"selftext\", \"num_comments\", \n",
    "                        \"score\", \"ups\", \"downs\", \"created_utc\"]\n",
    "        self.crawled_ids = []\n",
    "        if os.path.isfile(filename):\n",
    "            print(f\"{filename} exists, getting ids that have been crawled\")\n",
    "            self.file = open(filename, mode='a', encoding='utf-8')\n",
    "            self.file_writer = csv.writer(self.file, delimiter=',')\n",
    "            \n",
    "            temp_df = pd.read_csv(filename)\n",
    "            self.crawled_ids = temp_df[\"id\"].values.tolist()\n",
    "        else:\n",
    "            print(f\"{filename} does NOT exist, creating file\")\n",
    "            self.file = open(filename, mode='w', encoding='utf-8')\n",
    "            self.file_writer = csv.writer(self.file, delimiter=',')\n",
    "            self.file_writer.writerow(self.columns)\n",
    "            \n",
    "        \n",
    "    def write_submission(self, submission):\n",
    "        print(submission)\n",
    "        if submission[\"id\"] not in self.crawled_ids: \n",
    "            self.file_writer.writerow([submission[col] for col in self.columns])\n",
    "            self.crawled_ids.append(submission[\"id\"])\n",
    "                        \n",
    "    def __exit__(self):\n",
    "        print('in exit')\n",
    "        self.file.close()\n",
    "        \n",
    "class SubRedditCrawler:\n",
    "    def __init__(self, sub, limit=900, sort='new', filename=\"phr4r.csv\"):\n",
    "        self.sub = sub\n",
    "        self.sort = sort\n",
    "        self.lim = limit\n",
    "        self.reddit_writer = RedditCsvWriter(filename)\n",
    "        \n",
    "        self.reddit = praw.Reddit(client_id=Constants.CLIENT_ID, \n",
    "                                  client_secret=Constants.SECRET_KEY, \n",
    "                                  user_agent=Constants.USER_AGENT, \n",
    "                                  username=Constants.USERNAME, \n",
    "                                  password=Constants.PASSWORD) \n",
    "    def set_sort(self):\n",
    "        if self.sort == 'new':\n",
    "            return self.reddit.subreddit(self.sub).new(limit=self.lim)\n",
    "        elif self.sort == 'top':\n",
    "            return self.reddit.subreddit(self.sub).top(limit=self.lim)\n",
    "        elif self.sort == 'hot':\n",
    "            return self.reddit.subreddit(self.sub).hot(limit=self.lim)\n",
    "        else:\n",
    "            self.sort = 'hot'\n",
    "            print('Sort method was not recognized, defaulting to hot.')\n",
    "            return self.reddit.subreddit(self.sub).hot(limit=self.lim)\n",
    "        \n",
    "    def get_posts(self):\n",
    "        subreddit = self.set_sort()\n",
    "        for post in subreddit:\n",
    "            self.reddit_writer.write_submission({\n",
    "                \"id\": post.id,\n",
    "                \"title\": post.title,\n",
    "                \"selftext\": post.selftext,\n",
    "                \"num_comments\": post.num_comments,\n",
    "                \"score\": post.score,\n",
    "                \"ups\": post.ups,\n",
    "                \"downs\": post.downs,\n",
    "                \"created_utc\": post.created_utc\n",
    "            })\n",
    "            \n",
    "reddit_crawler = SubRedditCrawler(\"phr4r\")        \n",
    "reddit_crawler.get_posts()"
   ]
  }
 ],
 "metadata": {
  "kernelspec": {
   "display_name": "Python 3",
   "language": "python",
   "name": "python3"
  },
  "language_info": {
   "codemirror_mode": {
    "name": "ipython",
    "version": 3
   },
   "file_extension": ".py",
   "mimetype": "text/x-python",
   "name": "python",
   "nbconvert_exporter": "python",
   "pygments_lexer": "ipython3",
   "version": "3.8.1"
  }
 },
 "nbformat": 4,
 "nbformat_minor": 4
}
